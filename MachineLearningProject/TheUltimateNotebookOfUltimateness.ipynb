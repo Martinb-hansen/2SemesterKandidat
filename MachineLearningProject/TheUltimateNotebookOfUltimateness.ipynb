{
 "cells": [
  {
   "cell_type": "markdown",
   "id": "286f41d5",
   "metadata": {},
   "source": [
    "# Notebook for Group 1 - Disease prediction"
   ]
  },
  {
   "cell_type": "markdown",
   "id": "1b7ca8f0",
   "metadata": {},
   "source": [
    "Three models will be tested:\n",
    "kNN\n",
    "Decision tree\n",
    "Logistic regression\n",
    "\n",
    "\n",
    "This first section will include data reading and initial cleaning\n"
   ]
  },
  {
   "cell_type": "code",
   "execution_count": 1,
   "id": "d88d3a2d",
   "metadata": {
    "scrolled": false
   },
   "outputs": [],
   "source": [
    "import numpy as np\n",
    "import pandas as pd\n",
    "import matplotlib.pyplot as plt\n",
    "from matplotlib.pyplot import figure\n",
    "import csv\n",
    "from sklearn.preprocessing import LabelEncoder\n",
    "from sklearn.neighbors import KNeighborsClassifier\n",
    "from sklearn.metrics import euclidean_distances\n",
    "from sklearn.datasets import make_blobs\n",
    "import scipy.special as special\n",
    "import matplotlib.pyplot as plt\n",
    "from sklearn.metrics import confusion_matrix\n",
    "from bokeh.layouts import gridplot\n",
    "from bokeh.plotting import figure, show, output_file\n",
    "from bokeh.io import output_notebook\n",
    "from sklearn.model_selection import train_test_split, cross_val_score\n",
    "from sklearn.metrics import f1_score\n",
    "from sklearn.neighbors import NearestNeighbors\n",
    "#https://www.kaggle.com/code/chandrug/symptoms-based-disease-prediction-accuracy-99\n",
    "import numpy as np\n",
    "import pandas as pd\n",
    "import matplotlib.pyplot as plt\n",
    "from matplotlib.pyplot import figure\n",
    "import csv\n",
    "from sklearn.preprocessing import LabelEncoder\n",
    "from sklearn.model_selection import train_test_split\n",
    "from sklearn.neighbors import KNeighborsClassifier\n",
    "from sklearn.metrics import euclidean_distances\n",
    "from sklearn.datasets import make_blobs\n",
    "from sklearn.model_selection import KFold\n",
    "from sklearn.model_selection import cross_val_score\n",
    "from sklearn.ensemble import RandomForestClassifier\n",
    "from sklearn.ensemble import RandomForestRegressor\n",
    "import seaborn as sns\n",
    "from sklearn.metrics import accuracy_score, confusion_matrix, classification_report\n",
    "from sklearn.model_selection import GridSearchCV\n",
    "from sklearn.feature_selection import SelectFromModel\n",
    "import numpy as np\n",
    "import pandas as pd\n",
    "import matplotlib.pyplot as plt\n",
    "import seaborn as sns\n",
    "from sklearn.model_selection import train_test_split\n",
    "from sklearn.model_selection import KFold \n",
    "from sklearn.model_selection import cross_val_score\n",
    "from sklearn.model_selection import GridSearchCV\n",
    "from sklearn.utils import shuffle\n",
    "from sklearn import metrics\n",
    "from sklearn.metrics import f1_score\n",
    "from sklearn.metrics import accuracy_score\n",
    "from sklearn.metrics import confusion_matrix\n",
    "from sklearn.metrics import classification_report\n",
    "from sklearn.metrics import plot_confusion_matrix\n",
    "from sklearn.metrics import plot_roc_curve\n",
    "from sklearn.metrics import precision_score\n",
    "from sklearn.metrics import roc_curve\n",
    "from sklearn.metrics import recall_score\n",
    "from sklearn.linear_model import LogisticRegression\n",
    "from sklearn.linear_model import Perceptron\n",
    "from sklearn.linear_model import RidgeClassifier\n",
    "from sklearn.linear_model import SGDClassifier\n",
    "from sklearn.ensemble import RandomForestClassifier\n",
    "from sklearn.ensemble import GradientBoostingClassifier\n",
    "from sklearn.svm import SVC\n",
    "from sklearn.svm import LinearSVC\n",
    "from sklearn.neighbors import KNeighborsClassifier\n",
    "from sklearn.naive_bayes import GaussianNB\n",
    "from sklearn.tree import DecisionTreeClassifier\n",
    "from sklearn import preprocessing\n",
    "\n",
    "filename = \"dataset.csv\"\n",
    "filename2 = \"symptom_Description.csv\"\n",
    "filename3 = \"symptom_precaution.csv\"\n",
    "filename4 = \"Symptom-severity.csv\"\n",
    "\n",
    "dataDS = pd.read_csv(filename,skipinitialspace = True)\n",
    "dataWeight = pd.read_csv(filename4, skipinitialspace = True)\n",
    "\n",
    "\n",
    "dataDS.replace(' ', '',regex=True,inplace=True)"
   ]
  },
  {
   "cell_type": "code",
   "execution_count": 2,
   "id": "31efa037",
   "metadata": {
    "scrolled": true
   },
   "outputs": [
    {
     "name": "stdout",
     "output_type": "stream",
     "text": [
      "Note: you may need to restart the kernel to use updated packages.\n"
     ]
    },
    {
     "name": "stderr",
     "output_type": "stream",
     "text": [
      "ERROR: Invalid requirement: '#Needed'\n"
     ]
    }
   ],
   "source": [
    "pip install sklearn-evaluation #Needed to be installed as an extra for some reason"
   ]
  },
  {
   "cell_type": "markdown",
   "id": "7e8f0f4e",
   "metadata": {},
   "source": [
    "### The following code will create 6 datasets: \n",
    "A regular dataset that will simply be the original \n",
    "A weighted dataset where each symptom will be matched with it corresponding weight from the \"Symptom-severity.csv\" dataset.\n",
    "A regular dataset but only with Hepatitis diseases\n",
    "A weighted dataset with the Hepatitis diseases\n",
    "One of Hepatitis data and one of Regular, where each symptom has a unique code\n",
    "\n",
    "Each dataset has already been created and can be found in the zip file, to minimize run time"
   ]
  },
  {
   "cell_type": "code",
   "execution_count": 3,
   "id": "2918dc86",
   "metadata": {},
   "outputs": [],
   "source": [
    "from sklearn.preprocessing import LabelEncoder\n",
    "\n",
    "Symp = dataWeight['Symptom']\n",
    "Weight = dataWeight['weight']\n",
    "\n",
    "################Regular original data\n",
    "\n",
    "#dataDS.to_csv(\"RegularData.csv\")\n",
    "\n",
    "################Weighted original data\n",
    "\n",
    "#newData = dataDS\n",
    "\n",
    "#for i in range(len(newData)):\n",
    "#    for n in range (len(newData.columns)):\n",
    "#        for S in range (len(Symp)):\n",
    "#            if newData.iat[i,n] == Symp[S]:\n",
    "#                newData.iat[i,n] = Weight[S]\n",
    "                \n",
    "#newData.to_csv(\"RegularDataWeighted.csv\")  \n",
    "\n",
    "\n",
    "################Unique Regular Data\n",
    "                \n",
    "#X = dataDS.drop('Disease', axis = 1)\n",
    "#for i in X.columns:\n",
    "#    X[i] = LabelEncoder().fit_transform(X[i].astype(str))\n",
    "    \n",
    "#RegularDataUnique = pd.concat( [dataDS['Disease'], X], axis=1)\n",
    "#RegularDataUnique.to_csv(\"RegularDataUnique.csv\") \n",
    "    \n",
    "################Regular Hepatitis data\n",
    "\n",
    "#HepData = dataDS[(dataDS['Disease']=='HepatitisC')|\n",
    "#                  (dataDS['Disease']=='HepatitisE')|\n",
    "#                  (dataDS['Disease']=='HepatitisD')|\n",
    "#                  (dataDS['Disease']=='HepatitisB')|\n",
    "#                  (dataDS['Disease']=='hepatitisA')]\n",
    "\n",
    "#HepData.to_csv(\"HepData.csv\")\n",
    "\n",
    "\n",
    "################Unique Hepatitis Data\n",
    "\n",
    "#X = HepData.drop('Disease', axis = 1)\n",
    "#for i in X.columns:\n",
    "#    X[i] = LabelEncoder().fit_transform(X[i].astype(str))\n",
    "    \n",
    "#HepDataUnique = pd.concat([HepData['Disease'], X], axis=1)\n",
    "#HepDataUnique.to_csv(\"HepDataUnique.csv\") \n",
    "\n",
    "################Weighted Hepatitis data\n",
    "\n",
    "#for i in range(len(HepData)): #KØR DEN HER KODE HVIS DU GERNE VIL HAVE VÆGTE I STEDET FOR NAVNE\n",
    "#    for n in range (len(HepData.columns)):\n",
    "#        for S in range (len(Symp)):\n",
    "#            if HepData.iat[i,n] == Symp[S]:\n",
    "#                HepData.iat[i,n] = Weight[S]\n",
    "                \n",
    "#HepData.to_csv(\"HepDataWeighted.csv\")\n",
    "\n"
   ]
  },
  {
   "cell_type": "code",
   "execution_count": 4,
   "id": "fbceb4a3",
   "metadata": {},
   "outputs": [],
   "source": [
    "#Read all csv files and assign variable\n",
    "\n",
    "RD = pd.read_csv(\"RegularData.csv\")\n",
    "RDW = pd.read_csv(\"RegularDataWeighted.csv\")\n",
    "RDU = pd.read_csv(\"RegularDataUnique.csv\")\n",
    "HD = pd.read_csv(\"HepData.csv\")\n",
    "HDW = pd.read_csv(\"HepDataWeighted.csv\")\n",
    "HDU = pd.read_csv(\"HepDataUnique.csv\")\n",
    "\n",
    "#For some unknown reason, each dataset gets an extra index row when reading in from CSV. This is removed here\n",
    "\n",
    "RD = RD.drop('Unnamed: 0', axis = 1)\n",
    "RDW = RDW.drop('Unnamed: 0', axis = 1)\n",
    "RDU = RDU.drop('Unnamed: 0', axis = 1)\n",
    "HD = HD.drop('Unnamed: 0', axis = 1)\n",
    "HDW = HDW.drop('Unnamed: 0', axis = 1)\n",
    "HDU = HDU.drop('Unnamed: 0', axis = 1)"
   ]
  },
  {
   "cell_type": "markdown",
   "id": "f51ddfc8",
   "metadata": {},
   "source": [
    "Now the data is cleaned and models can be used. Some extra data cleaning may occur at individual models"
   ]
  },
  {
   "cell_type": "markdown",
   "id": "1638c413",
   "metadata": {},
   "source": [
    "## kNN"
   ]
  },
  {
   "cell_type": "markdown",
   "id": "e18ccc26",
   "metadata": {},
   "source": [
    "First the data will be split and fitted to the model. Later on, a model will be fitted to the Hepatitis data instead, too see if using only a few diseases, will make it less complex."
   ]
  },
  {
   "cell_type": "markdown",
   "id": "2f79548b",
   "metadata": {},
   "source": [
    "Trying with the weighted data first and then the unique data, to see how the accuracy differs."
   ]
  },
  {
   "cell_type": "code",
   "execution_count": 5,
   "id": "ab0d9d54",
   "metadata": {},
   "outputs": [
    {
     "data": {
      "text/plain": [
       "<matplotlib.legend.Legend at 0x1ce80050ca0>"
      ]
     },
     "execution_count": 5,
     "metadata": {},
     "output_type": "execute_result"
    },
    {
     "data": {
      "image/png": "[encoded data removed]",
      "text/plain": [
       "<Figure size 432x288 with 1 Axes>"
      ]
     },
     "metadata": {
      "needs_background": "light"
     },
     "output_type": "display_data"
    }
   ],
   "source": [
    "#XWeighted= RDW.drop('Disease', axis=1)\n",
    "#yWeighted = RDW['Disease']\n",
    "\n",
    "#X_train, X_test, y_train, y_test = train_test_split(XWeighted, yWeighted, test_size=0.33, random_state=80)\n",
    "\n",
    "#df = pd.read_csv(\"HepDataWithNAN.csv\",skipinitialspace = True)\n",
    "df = pd.read_csv(\"dataset.csv\",skipinitialspace = True)\n",
    "#df = df.drop('Unnamed: 0', axis=1)\n",
    "df = shuffle(df, random_state = 42)\n",
    "for col in df.columns:\n",
    "    df[col] = df[col].str.replace('_', ' ')\n",
    "cols = df.columns\n",
    "data1 = df[cols].values.flatten()\n",
    "reshaped = pd.Series(data1)\n",
    "reshaped = reshaped.str.strip()\n",
    "reshaped = reshaped.values.reshape(df.shape)\n",
    "df = pd.DataFrame(reshaped, columns = df.columns)\n",
    "df = df.fillna(0)\n",
    "df_severity = pd.read_csv('Symptom-severity.csv')\n",
    "df_severity['Symptom'] = df_severity['Symptom'].str.replace('_',' ')\n",
    "df_severity.head(10)\n",
    "df_severity['Symptom'].unique()\n",
    "vals = df.values\n",
    "symptoms = df_severity['Symptom'].unique()\n",
    "for i in range(len(symptoms)):\n",
    "    vals[vals == symptoms[i]] = df_severity[df_severity['Symptom'] == symptoms[i]]['weight'].values[0]\n",
    "df_pros = pd.DataFrame(vals, columns=cols)\n",
    "df_pros = df_pros.replace('dischromic  patches', 0)\n",
    "df_pros = df_pros.replace('spotting  urination', 0)\n",
    "df_pros = df_pros.replace('foul smell of urine', 0)\n",
    "\n",
    "X = df_pros.iloc[:,1:].values\n",
    "y = df['Disease'].values\n",
    "X_train, X_test, y_train, y_test = train_test_split(X, y, test_size=0.2, random_state=42)\n",
    "\n",
    "\n",
    "\n",
    "training_scores = []\n",
    "test_scores = []\n",
    "\n",
    "neighbors = range(1, 50, 2)\n",
    "\n",
    "for n_neighbors in neighbors:\n",
    "    knn = KNeighborsClassifier(n_neighbors=n_neighbors).fit(X_train, y_train)\n",
    "    training_scores.append(knn.score(X_train, y_train))\n",
    "    test_scores.append(knn.score(X_test, y_test))\n",
    "    \n",
    "plt.figure()\n",
    "plt.plot(neighbors, training_scores, label=\"Training scores\")\n",
    "plt.plot(neighbors, test_scores, label=\"Test scores\")\n",
    "plt.ylabel(\"Accuracy\")\n",
    "plt.xlabel(\"n_neighbors\")\n",
    "plt.legend()\n"
   ]
  },
  {
   "cell_type": "code",
   "execution_count": 6,
   "id": "e513875c",
   "metadata": {},
   "outputs": [
    {
     "data": {
      "text/plain": [
       "<matplotlib.legend.Legend at 0x1ce80137f70>"
      ]
     },
     "execution_count": 6,
     "metadata": {},
     "output_type": "execute_result"
    },
    {
     "data": {
      "image/png": "[encoded data removed]",
      "text/plain": [
       "<Figure size 432x288 with 1 Axes>"
      ]
     },
     "metadata": {
      "needs_background": "light"
     },
     "output_type": "display_data"
    }
   ],
   "source": [
    "XUnqiue = RDU.drop('Disease', axis=1)\n",
    "yUnqiue = RDU['Disease']\n",
    "\n",
    "X_train, X_test, y_train, y_test = train_test_split(XUnqiue, yUnqiue, test_size=0.33, random_state=80)\n",
    "\n",
    "training_scores = []\n",
    "test_scores = []\n",
    "\n",
    "neighbors = range(1, 50, 2)\n",
    "\n",
    "for n_neighbors in neighbors:\n",
    "    knn = KNeighborsClassifier(n_neighbors=n_neighbors).fit(X_train, y_train)\n",
    "    training_scores.append(knn.score(X_train, y_train))\n",
    "    test_scores.append(knn.score(X_test, y_test))\n",
    "    \n",
    "plt.figure()\n",
    "plt.plot(neighbors, training_scores, label=\"Training scores\")\n",
    "plt.plot(neighbors, test_scores, label=\"Test scores\")\n",
    "plt.ylabel(\"Accuracy\")\n",
    "plt.xlabel(\"n_neighbors\")\n",
    "plt.legend()\n"
   ]
  },
  {
   "cell_type": "markdown",
   "id": "72ecd6fe",
   "metadata": {},
   "source": [
    "No real difference can be seen using the two different methods. Therefore the weighted data will simply be used from here on."
   ]
  },
  {
   "cell_type": "markdown",
   "id": "356ab83e",
   "metadata": {},
   "source": [
    "From here, the best possible kNN model will be made. This will be done through a Grid Search, to get the best possible parameters. The model will be set up as a pipeline, so we kan easily fit the hepatitis data later too. "
   ]
  },
  {
   "cell_type": "code",
   "execution_count": 8,
   "id": "c4be9966",
   "metadata": {
    "scrolled": true
   },
   "outputs": [
    {
     "ename": "ModuleNotFoundError",
     "evalue": "No module named 'sklearn_evaluation'",
     "output_type": "error",
     "traceback": [
      "\u001b[1;31m---------------------------------------------------------------------------\u001b[0m",
      "\u001b[1;31mModuleNotFoundError\u001b[0m                       Traceback (most recent call last)",
      "Input \u001b[1;32mIn [8]\u001b[0m, in \u001b[0;36m<module>\u001b[1;34m\u001b[0m\n\u001b[0;32m      3\u001b[0m \u001b[38;5;28;01mfrom\u001b[39;00m \u001b[38;5;21;01msklearn\u001b[39;00m\u001b[38;5;21;01m.\u001b[39;00m\u001b[38;5;21;01mpreprocessing\u001b[39;00m \u001b[38;5;28;01mimport\u001b[39;00m StandardScaler\n\u001b[0;32m      4\u001b[0m \u001b[38;5;28;01mfrom\u001b[39;00m \u001b[38;5;21;01msklearn\u001b[39;00m\u001b[38;5;21;01m.\u001b[39;00m\u001b[38;5;21;01mneighbors\u001b[39;00m \u001b[38;5;28;01mimport\u001b[39;00m KNeighborsRegressor\n\u001b[1;32m----> 5\u001b[0m \u001b[38;5;28;01mfrom\u001b[39;00m \u001b[38;5;21;01msklearn_evaluation\u001b[39;00m \u001b[38;5;28;01mimport\u001b[39;00m plot\n\u001b[0;32m      8\u001b[0m \u001b[38;5;66;03m#XWeighted= RDW.drop('Disease', axis=1)\u001b[39;00m\n\u001b[0;32m      9\u001b[0m \u001b[38;5;66;03m#yWeighted = RDW['Disease']\u001b[39;00m\n\u001b[0;32m     10\u001b[0m \n\u001b[0;32m     11\u001b[0m \u001b[38;5;66;03m#X_train, X_test, y_train, y_test = train_test_split(XWeighted, yWeighted, test_size=0.33, random_state=80)\u001b[39;00m\n\u001b[0;32m     13\u001b[0m knn \u001b[38;5;241m=\u001b[39m KNeighborsClassifier()\n",
      "\u001b[1;31mModuleNotFoundError\u001b[0m: No module named 'sklearn_evaluation'"
     ]
    }
   ],
   "source": [
    "from sklearn.model_selection import GridSearchCV\n",
    "from sklearn.pipeline import make_pipeline\n",
    "from sklearn.preprocessing import StandardScaler\n",
    "from sklearn.neighbors import KNeighborsRegressor\n",
    "from sklearn_evaluation import plot\n",
    "\n",
    "\n",
    "#XWeighted= RDW.drop('Disease', axis=1)\n",
    "#yWeighted = RDW['Disease']\n",
    "\n",
    "#X_train, X_test, y_train, y_test = train_test_split(XWeighted, yWeighted, test_size=0.33, random_state=80)\n",
    "\n",
    "knn = KNeighborsClassifier()\n",
    "\n",
    "n_range = range(1, 25)\n",
    "param_grid = dict(n_neighbors=n_range)\n",
    "\n",
    "grid = GridSearchCV(knn, param_grid, cv=20, scoring='accuracy')\n",
    "\n",
    "grid.fit(X_train, y_train)\n",
    "\n",
    "print(grid.best_params_)\n",
    "print(grid.score(X_test, y_test))\n",
    "\n"
   ]
  },
  {
   "cell_type": "markdown",
   "id": "8034a389",
   "metadata": {},
   "source": [
    "And for the Hepatitis data"
   ]
  },
  {
   "cell_type": "code",
   "execution_count": null,
   "id": "83710e6f",
   "metadata": {},
   "outputs": [],
   "source": [
    "XWeighted= HDW.drop('Disease', axis=1)\n",
    "yWeighted = HDW['Disease']\n",
    "\n",
    "X_train, X_test, y_train, y_test = train_test_split(XWeighted, yWeighted, test_size=0.33, random_state=3)\n",
    "\n",
    "knn = KNeighborsClassifier()\n",
    "\n",
    "n_range = range(1, 25)\n",
    "param_grid = dict(n_neighbors=n_range)\n",
    "\n",
    "grid = GridSearchCV(knn, param_grid, cv=5, scoring='accuracy')\n",
    "\n",
    "grid.fit(X_train, y_train)\n",
    "\n",
    "print(grid.best_params_)\n",
    "print(grid.score(X_test, y_test))\n"
   ]
  },
  {
   "cell_type": "markdown",
   "id": "e7ffa748",
   "metadata": {},
   "source": [
    "Now to evaluate the model"
   ]
  },
  {
   "cell_type": "code",
   "execution_count": null,
   "id": "81502f1f",
   "metadata": {},
   "outputs": [],
   "source": [
    "from sklearn.metrics import accuracy_score, confusion_matrix, classification_report\n",
    "import seaborn as sns\n",
    "\n",
    "model = KNeighborsClassifier(n_neighbors=2)\n",
    "model.fit(X_train, y_train)\n",
    "\n",
    "y_pred_test = model.predict(X_test)\n",
    "matrix = confusion_matrix(y_test, y_pred_test)\n",
    "\n",
    "# Build the plot\n",
    "plt.figure(figsize=(16,7))\n",
    "sns.set(font_scale=1.4)\n",
    "sns.heatmap(matrix, annot=True, annot_kws={'size':10},\n",
    "            cmap=plt.cm.Greens, linewidths=0.2)\n",
    "\n",
    "# Add labels to the plot\n",
    "class_names = ['Diseases 1-41']\n",
    "tick_marks = np.arange(len(class_names))\n",
    "tick_marks2 = tick_marks + 0.5\n",
    "plt.xticks(tick_marks, class_names, rotation=25)\n",
    "plt.yticks(tick_marks2, class_names, rotation=0)\n",
    "plt.xlabel('Predicted label')\n",
    "plt.ylabel('True label')\n",
    "plt.title('Confusion Matrix for kNN classifier')\n",
    "plt.show()"
   ]
  },
  {
   "cell_type": "markdown",
   "id": "39df44f4",
   "metadata": {},
   "source": [
    "## Conclusions from kNN "
   ]
  },
  {
   "cell_type": "markdown",
   "id": "dfd53c85",
   "metadata": {},
   "source": [
    "For work on the remaining two models, we will only be looking at\n",
    "\n",
    "## WHAT?"
   ]
  },
  {
   "cell_type": "markdown",
   "id": "89859158",
   "metadata": {},
   "source": [
    "## Random Decision Trees"
   ]
  },
  {
   "cell_type": "code",
   "execution_count": null,
   "id": "e3c5a87e",
   "metadata": {},
   "outputs": [],
   "source": []
  },
  {
   "cell_type": "markdown",
   "id": "f2c49ce6",
   "metadata": {},
   "source": [
    "## Logistic regression"
   ]
  },
  {
   "cell_type": "code",
   "execution_count": null,
   "id": "202c1e61",
   "metadata": {},
   "outputs": [],
   "source": []
  },
  {
   "cell_type": "markdown",
   "id": "348c0500",
   "metadata": {},
   "source": [
    "## All scores"
   ]
  },
  {
   "cell_type": "code",
   "execution_count": null,
   "id": "286ef45f",
   "metadata": {},
   "outputs": [],
   "source": []
  }
 ],
 "metadata": {
  "kernelspec": {
   "display_name": "Python 3 (ipykernel)",
   "language": "python",
   "name": "python3"
  },
  "language_info": {
   "codemirror_mode": {
    "name": "ipython",
    "version": 3
   },
   "file_extension": ".py",
   "mimetype": "text/x-python",
   "name": "python",
   "nbconvert_exporter": "python",
   "pygments_lexer": "ipython3",
   "version": "3.9.7"
  }
 },
 "nbformat": 4,
 "nbformat_minor": 5
}
