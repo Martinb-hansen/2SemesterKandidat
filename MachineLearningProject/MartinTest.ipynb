{
 "cells": [
  {
   "cell_type": "code",
   "execution_count": 1,
   "id": "5e17d3fd",
   "metadata": {},
   "outputs": [
    {
     "data": {
      "text/plain": [
       "Fungal infection                           120\n",
       "Hepatitis C                                120\n",
       "Hepatitis E                                120\n",
       "Alcoholic hepatitis                        120\n",
       "Tuberculosis                               120\n",
       "Common Cold                                120\n",
       "Pneumonia                                  120\n",
       "Dimorphic hemmorhoids(piles)               120\n",
       "Heart attack                               120\n",
       "Varicose veins                             120\n",
       "Hypothyroidism                             120\n",
       "Hyperthyroidism                            120\n",
       "Hypoglycemia                               120\n",
       "Osteoarthristis                            120\n",
       "Arthritis                                  120\n",
       "(vertigo) Paroymsal  Positional Vertigo    120\n",
       "Acne                                       120\n",
       "Urinary tract infection                    120\n",
       "Psoriasis                                  120\n",
       "Hepatitis D                                120\n",
       "Hepatitis B                                120\n",
       "Allergy                                    120\n",
       "hepatitis A                                120\n",
       "GERD                                       120\n",
       "Chronic cholestasis                        120\n",
       "Drug Reaction                              120\n",
       "Peptic ulcer diseae                        120\n",
       "AIDS                                       120\n",
       "Diabetes                                   120\n",
       "Gastroenteritis                            120\n",
       "Bronchial Asthma                           120\n",
       "Hypertension                               120\n",
       "Migraine                                   120\n",
       "Cervical spondylosis                       120\n",
       "Paralysis (brain hemorrhage)               120\n",
       "Jaundice                                   120\n",
       "Malaria                                    120\n",
       "Chicken pox                                120\n",
       "Dengue                                     120\n",
       "Typhoid                                    120\n",
       "Impetigo                                   120\n",
       "Name: Disease, dtype: int64"
      ]
     },
     "execution_count": 1,
     "metadata": {},
     "output_type": "execute_result"
    }
   ],
   "source": [
    "import numpy as np\n",
    "import pandas as pd\n",
    "import matplotlib.pyplot as plt\n",
    "from matplotlib.pyplot import figure\n",
    "import csv\n",
    "from sklearn.preprocessing import LabelEncoder\n",
    "from sklearn.model_selection import train_test_split\n",
    "from sklearn.neighbors import KNeighborsClassifier\n",
    "from sklearn.metrics import euclidean_distances\n",
    "from sklearn.datasets import make_blobs\n",
    "\n",
    "\n",
    "#https://www.kaggle.com/itachi9604/disease-symptom-description-dataset\n",
    "\n",
    "filename = \"dataset.csv\"\n",
    "filename2 = \"symptom_Description.csv\"\n",
    "filename3 = \"symptom_precaution.csv\"\n",
    "filename4 = \"Symptom-severity.csv\"\n",
    "\n",
    "dataDS = pd.read_csv(filename,skipinitialspace = True)\n",
    "dataDsc = pd.read_csv(filename2, skipinitialspace = True)\n",
    "dataPrecaution = pd.read_csv(filename3, skipinitialspace = True)\n",
    "dataWeight = pd.read_csv(filename4, skipinitialspace = True)\n",
    "\n",
    "\n",
    "UniqueDiseases = dataDS['Disease'].value_counts()\n",
    "UniqueDiseases\n",
    "\n",
    "\n"
   ]
  },
  {
   "cell_type": "markdown",
   "id": "35e5370a",
   "metadata": {},
   "source": [
    "# Vi skal have kombineret noget af mads' med det her, så vi f.eks har argument for valg af kun 6 symptomer (andet end med 17 symptomer ville det tage et døgn at udskifte værdier"
   ]
  },
  {
   "cell_type": "code",
   "execution_count": null,
   "id": "9cada681",
   "metadata": {},
   "outputs": [],
   "source": []
  },
  {
   "cell_type": "markdown",
   "id": "454b044f",
   "metadata": {},
   "source": [
    "Mængden af symptomer langs x-aksen\n",
    "Vægtningen af symptomer op af y-aksen\n",
    "Dieasese vil så være klassifikationen\n",
    "\n"
   ]
  },
  {
   "cell_type": "code",
   "execution_count": 2,
   "id": "5d25f7b9",
   "metadata": {},
   "outputs": [
    {
     "name": "stderr",
     "output_type": "stream",
     "text": [
      "C:\\Users\\marti\\anaconda3\\lib\\site-packages\\pandas\\core\\frame.py:5238: SettingWithCopyWarning: \n",
      "A value is trying to be set on a copy of a slice from a DataFrame\n",
      "\n",
      "See the caveats in the documentation: https://pandas.pydata.org/pandas-docs/stable/user_guide/indexing.html#returning-a-view-versus-a-copy\n",
      "  return super().replace(\n"
     ]
    }
   ],
   "source": [
    "\n",
    "Symp = dataWeight['Symptom']\n",
    "Weight = dataWeight['weight']\n",
    "\n",
    "#newData = dataDS[['Disease','Symptom_1','Symptom_2','Symptom_3','Symptom_4','Symptom_5','Symptom_6']]\n",
    "\n",
    "#newData.replace(' ', '',regex=True,inplace=True)\n",
    "\n",
    "#for i in range(len(newData)):\n",
    "#    for n in range (len(newData.columns)):\n",
    "#        for S in range (len(Symp)):\n",
    "#            if newData.iat[i,n] == Symp[S]:\n",
    "#                newData.iat[i,n] = Weight[S]\n",
    "                \n",
    "#newData\n",
    "\n",
    "\n",
    "HepData = dataDS[(dataDS['Disease']=='Hepatitis C')|\n",
    "                  (dataDS['Disease']=='Hepatitis E')|\n",
    "                  (dataDS['Disease']=='Hepatitis D')|\n",
    "                  (dataDS['Disease']=='Hepatitis B')|\n",
    "                  (dataDS['Disease']=='hepatitis A')]\n",
    "\n",
    "\n",
    "HepData.replace(' ', '',regex=True,inplace=True)\n",
    "\n",
    "for i in range(len(HepData)): #KØR DEN HER KODE HVIS DU GERNE VIL HAVE VÆGTE I STEDET FOR NAVNE\n",
    "    for n in range (len(HepData.columns)):\n",
    "        for S in range (len(Symp)):\n",
    "            if HepData.iat[i,n] == Symp[S]:\n",
    "                HepData.iat[i,n] = Weight[S]\n",
    "                \n",
    "#Target = HepData['Disease'].unique() \n",
    "#Features = pd.concat([HepData[\"Symptom_1\"],HepData[\"Symptom_2\"],\n",
    "#        HepData[\"Symptom_3\"],HepData[\"Symptom_4\"],\n",
    "#        HepData[\"Symptom_5\"],HepData[\"Symptom_6\"],\n",
    "#        HepData[\"Symptom_7\"],HepData[\"Symptom_8\"],\n",
    "#        HepData[\"Symptom_9\"],HepData[\"Symptom_10\"],\n",
    "#        HepData[\"Symptom_11\"],HepData[\"Symptom_12\"],\n",
    "#        HepData[\"Symptom_13\"],HepData[\"Symptom_14\"],\n",
    "#        HepData[\"Symptom_15\"],HepData[\"Symptom_16\"],\n",
    "#        HepData[\"Symptom_17\"]]).unique()\n",
    "\n",
    "#Features\n",
    "    "
   ]
  },
  {
   "cell_type": "code",
   "execution_count": 3,
   "id": "80558379",
   "metadata": {},
   "outputs": [],
   "source": [
    "#newData.iat[4917,3]"
   ]
  },
  {
   "cell_type": "markdown",
   "id": "5085eff0",
   "metadata": {},
   "source": [
    "Den følgende kode, fremhæver hvor mange der er af hver disease case (120 af hver 41 sygdomme)"
   ]
  },
  {
   "cell_type": "code",
   "execution_count": 4,
   "id": "4689cd7e",
   "metadata": {},
   "outputs": [],
   "source": [
    "#UniqueDiseases = newData['Disease'].value_counts()\n",
    "#UniqueDiseases"
   ]
  },
  {
   "cell_type": "markdown",
   "id": "e7ed0343",
   "metadata": {},
   "source": [
    "This code first creates a list of the unique labels, after that it creates a dictionary mapping from label value to a numeric value, and finally does a in place replacing of the label values with the numerical values.\n",
    "\n",
    "SKAL have fundet ud af hvordan man tager det fra UniqueDiseases og knytter det til mappingen, så vi kan se hvad vi rent faktisk ender med at predict"
   ]
  },
  {
   "cell_type": "code",
   "execution_count": 5,
   "id": "9dbfc56b",
   "metadata": {},
   "outputs": [
    {
     "name": "stderr",
     "output_type": "stream",
     "text": [
      "C:\\Users\\marti\\anaconda3\\lib\\site-packages\\pandas\\core\\indexing.py:1951: SettingWithCopyWarning: \n",
      "A value is trying to be set on a copy of a slice from a DataFrame.\n",
      "Try using .loc[row_indexer,col_indexer] = value instead\n",
      "\n",
      "See the caveats in the documentation: https://pandas.pydata.org/pandas-docs/stable/user_guide/indexing.html#returning-a-view-versus-a-copy\n",
      "  self.obj[selected_item_labels] = value\n"
     ]
    }
   ],
   "source": [
    "\n",
    "\n",
    "#print(UniqueDiseases)\n",
    "\n",
    "#labels = newData['Disease'].unique().tolist()\n",
    "#mapping = dict( zip(labels,range(len(labels))) )\n",
    "#newData.replace({'Disease': mapping},inplace=True)\n",
    "\n",
    "labels = HepData['Disease'].unique().tolist()\n",
    "mapping = dict( zip(labels,range(len(labels))) )\n",
    "HepData.replace({'Disease': mapping},inplace=True)\n",
    "\n",
    "\n",
    "\n"
   ]
  },
  {
   "cell_type": "code",
   "execution_count": 6,
   "id": "b915d2d1",
   "metadata": {},
   "outputs": [
    {
     "data": {
      "text/html": [
       "<div>\n",
       "<style scoped>\n",
       "    .dataframe tbody tr th:only-of-type {\n",
       "        vertical-align: middle;\n",
       "    }\n",
       "\n",
       "    .dataframe tbody tr th {\n",
       "        vertical-align: top;\n",
       "    }\n",
       "\n",
       "    .dataframe thead th {\n",
       "        text-align: right;\n",
       "    }\n",
       "</style>\n",
       "<table border=\"1\" class=\"dataframe\">\n",
       "  <thead>\n",
       "    <tr style=\"text-align: right;\">\n",
       "      <th></th>\n",
       "      <th>Disease</th>\n",
       "      <th>Symptom_1</th>\n",
       "      <th>Symptom_2</th>\n",
       "      <th>Symptom_3</th>\n",
       "      <th>Symptom_4</th>\n",
       "      <th>Symptom_5</th>\n",
       "      <th>Symptom_6</th>\n",
       "    </tr>\n",
       "  </thead>\n",
       "  <tbody>\n",
       "    <tr>\n",
       "      <th>0</th>\n",
       "      <td>0</td>\n",
       "      <td>1</td>\n",
       "      <td>3</td>\n",
       "      <td>4</td>\n",
       "      <td>6.0</td>\n",
       "      <td>NaN</td>\n",
       "      <td>NaN</td>\n",
       "    </tr>\n",
       "    <tr>\n",
       "      <th>1</th>\n",
       "      <td>0</td>\n",
       "      <td>3</td>\n",
       "      <td>4</td>\n",
       "      <td>6</td>\n",
       "      <td>NaN</td>\n",
       "      <td>NaN</td>\n",
       "      <td>NaN</td>\n",
       "    </tr>\n",
       "    <tr>\n",
       "      <th>2</th>\n",
       "      <td>0</td>\n",
       "      <td>1</td>\n",
       "      <td>4</td>\n",
       "      <td>6</td>\n",
       "      <td>NaN</td>\n",
       "      <td>NaN</td>\n",
       "      <td>NaN</td>\n",
       "    </tr>\n",
       "    <tr>\n",
       "      <th>3</th>\n",
       "      <td>0</td>\n",
       "      <td>1</td>\n",
       "      <td>3</td>\n",
       "      <td>6</td>\n",
       "      <td>NaN</td>\n",
       "      <td>NaN</td>\n",
       "      <td>NaN</td>\n",
       "    </tr>\n",
       "    <tr>\n",
       "      <th>4</th>\n",
       "      <td>0</td>\n",
       "      <td>1</td>\n",
       "      <td>3</td>\n",
       "      <td>4</td>\n",
       "      <td>NaN</td>\n",
       "      <td>NaN</td>\n",
       "      <td>NaN</td>\n",
       "    </tr>\n",
       "    <tr>\n",
       "      <th>...</th>\n",
       "      <td>...</td>\n",
       "      <td>...</td>\n",
       "      <td>...</td>\n",
       "      <td>...</td>\n",
       "      <td>...</td>\n",
       "      <td>...</td>\n",
       "      <td>...</td>\n",
       "    </tr>\n",
       "    <tr>\n",
       "      <th>4915</th>\n",
       "      <td>36</td>\n",
       "      <td>5</td>\n",
       "      <td>3</td>\n",
       "      <td>5</td>\n",
       "      <td>6.0</td>\n",
       "      <td>4.0</td>\n",
       "      <td>4.0</td>\n",
       "    </tr>\n",
       "    <tr>\n",
       "      <th>4916</th>\n",
       "      <td>37</td>\n",
       "      <td>3</td>\n",
       "      <td>2</td>\n",
       "      <td>2</td>\n",
       "      <td>2.0</td>\n",
       "      <td>NaN</td>\n",
       "      <td>NaN</td>\n",
       "    </tr>\n",
       "    <tr>\n",
       "      <th>4917</th>\n",
       "      <td>38</td>\n",
       "      <td>6</td>\n",
       "      <td>4</td>\n",
       "      <td>5</td>\n",
       "      <td>6.0</td>\n",
       "      <td>NaN</td>\n",
       "      <td>NaN</td>\n",
       "    </tr>\n",
       "    <tr>\n",
       "      <th>4918</th>\n",
       "      <td>39</td>\n",
       "      <td>3</td>\n",
       "      <td>3</td>\n",
       "      <td>3</td>\n",
       "      <td>2.0</td>\n",
       "      <td>2.0</td>\n",
       "      <td>2.0</td>\n",
       "    </tr>\n",
       "    <tr>\n",
       "      <th>4919</th>\n",
       "      <td>40</td>\n",
       "      <td>3</td>\n",
       "      <td>7</td>\n",
       "      <td>4</td>\n",
       "      <td>2.0</td>\n",
       "      <td>3.0</td>\n",
       "      <td>NaN</td>\n",
       "    </tr>\n",
       "  </tbody>\n",
       "</table>\n",
       "<p>4920 rows × 7 columns</p>\n",
       "</div>"
      ],
      "text/plain": [
       "      Disease  Symptom_1  Symptom_2  Symptom_3  Symptom_4  Symptom_5  \\\n",
       "0           0          1          3          4        6.0        NaN   \n",
       "1           0          3          4          6        NaN        NaN   \n",
       "2           0          1          4          6        NaN        NaN   \n",
       "3           0          1          3          6        NaN        NaN   \n",
       "4           0          1          3          4        NaN        NaN   \n",
       "...       ...        ...        ...        ...        ...        ...   \n",
       "4915       36          5          3          5        6.0        4.0   \n",
       "4916       37          3          2          2        2.0        NaN   \n",
       "4917       38          6          4          5        6.0        NaN   \n",
       "4918       39          3          3          3        2.0        2.0   \n",
       "4919       40          3          7          4        2.0        3.0   \n",
       "\n",
       "      Symptom_6  \n",
       "0           NaN  \n",
       "1           NaN  \n",
       "2           NaN  \n",
       "3           NaN  \n",
       "4           NaN  \n",
       "...         ...  \n",
       "4915        4.0  \n",
       "4916        NaN  \n",
       "4917        NaN  \n",
       "4918        2.0  \n",
       "4919        NaN  \n",
       "\n",
       "[4920 rows x 7 columns]"
      ]
     },
     "execution_count": 6,
     "metadata": {},
     "output_type": "execute_result"
    }
   ],
   "source": [
    "#newData.to_csv('newData.csv')\n",
    "newData = pd.read_csv('newData.csv', sep=\",\", index_col=0)\n",
    "newData"
   ]
  },
  {
   "cell_type": "code",
   "execution_count": 7,
   "id": "59e3efa2",
   "metadata": {},
   "outputs": [
    {
     "data": {
      "text/plain": [
       "0     120\n",
       "21    120\n",
       "23    120\n",
       "24    120\n",
       "25    120\n",
       "26    120\n",
       "27    120\n",
       "28    120\n",
       "29    120\n",
       "30    120\n",
       "31    120\n",
       "32    120\n",
       "33    120\n",
       "34    120\n",
       "35    120\n",
       "36    120\n",
       "37    120\n",
       "38    120\n",
       "39    120\n",
       "22    120\n",
       "20    120\n",
       "1     120\n",
       "19    120\n",
       "2     120\n",
       "3     120\n",
       "4     120\n",
       "5     120\n",
       "6     120\n",
       "7     120\n",
       "8     120\n",
       "9     120\n",
       "10    120\n",
       "11    120\n",
       "12    120\n",
       "13    120\n",
       "14    120\n",
       "15    120\n",
       "16    120\n",
       "17    120\n",
       "18    120\n",
       "40    120\n",
       "Name: Disease, dtype: int64"
      ]
     },
     "execution_count": 7,
     "metadata": {},
     "output_type": "execute_result"
    }
   ],
   "source": [
    "UniqueDiseases = newData['Disease'].value_counts()\n",
    "UniqueDiseases"
   ]
  },
  {
   "cell_type": "markdown",
   "id": "b8038069",
   "metadata": {},
   "source": [
    "Skal nu have summeret hver række, resultat i 1 kolonne. Mængden af symptomer i en anden kolonne og Disease i tredje kolonne (som kommer fra newData). "
   ]
  },
  {
   "cell_type": "code",
   "execution_count": 8,
   "id": "074c7af5",
   "metadata": {},
   "outputs": [
    {
     "data": {
      "text/html": [
       "<div>\n",
       "<style scoped>\n",
       "    .dataframe tbody tr th:only-of-type {\n",
       "        vertical-align: middle;\n",
       "    }\n",
       "\n",
       "    .dataframe tbody tr th {\n",
       "        vertical-align: top;\n",
       "    }\n",
       "\n",
       "    .dataframe thead th {\n",
       "        text-align: right;\n",
       "    }\n",
       "</style>\n",
       "<table border=\"1\" class=\"dataframe\">\n",
       "  <thead>\n",
       "    <tr style=\"text-align: right;\">\n",
       "      <th></th>\n",
       "      <th>SumOfSymp</th>\n",
       "      <th>CountOfSymp</th>\n",
       "      <th>UniqueCode</th>\n",
       "    </tr>\n",
       "  </thead>\n",
       "  <tbody>\n",
       "    <tr>\n",
       "      <th>0</th>\n",
       "      <td>14.0</td>\n",
       "      <td>12.0</td>\n",
       "      <td>0</td>\n",
       "    </tr>\n",
       "    <tr>\n",
       "      <th>1</th>\n",
       "      <td>13.0</td>\n",
       "      <td>10.5</td>\n",
       "      <td>0</td>\n",
       "    </tr>\n",
       "    <tr>\n",
       "      <th>2</th>\n",
       "      <td>11.0</td>\n",
       "      <td>7.5</td>\n",
       "      <td>0</td>\n",
       "    </tr>\n",
       "    <tr>\n",
       "      <th>3</th>\n",
       "      <td>10.0</td>\n",
       "      <td>6.0</td>\n",
       "      <td>0</td>\n",
       "    </tr>\n",
       "    <tr>\n",
       "      <th>4</th>\n",
       "      <td>8.0</td>\n",
       "      <td>6.0</td>\n",
       "      <td>0</td>\n",
       "    </tr>\n",
       "    <tr>\n",
       "      <th>...</th>\n",
       "      <td>...</td>\n",
       "      <td>...</td>\n",
       "      <td>...</td>\n",
       "    </tr>\n",
       "    <tr>\n",
       "      <th>4915</th>\n",
       "      <td>27.0</td>\n",
       "      <td>30.0</td>\n",
       "      <td>36</td>\n",
       "    </tr>\n",
       "    <tr>\n",
       "      <th>4916</th>\n",
       "      <td>9.0</td>\n",
       "      <td>8.0</td>\n",
       "      <td>37</td>\n",
       "    </tr>\n",
       "    <tr>\n",
       "      <th>4917</th>\n",
       "      <td>21.0</td>\n",
       "      <td>24.0</td>\n",
       "      <td>38</td>\n",
       "    </tr>\n",
       "    <tr>\n",
       "      <th>4918</th>\n",
       "      <td>15.0</td>\n",
       "      <td>18.0</td>\n",
       "      <td>39</td>\n",
       "    </tr>\n",
       "    <tr>\n",
       "      <th>4919</th>\n",
       "      <td>19.0</td>\n",
       "      <td>17.5</td>\n",
       "      <td>40</td>\n",
       "    </tr>\n",
       "  </tbody>\n",
       "</table>\n",
       "<p>4920 rows × 3 columns</p>\n",
       "</div>"
      ],
      "text/plain": [
       "      SumOfSymp  CountOfSymp  UniqueCode\n",
       "0          14.0         12.0           0\n",
       "1          13.0         10.5           0\n",
       "2          11.0          7.5           0\n",
       "3          10.0          6.0           0\n",
       "4           8.0          6.0           0\n",
       "...         ...          ...         ...\n",
       "4915       27.0         30.0          36\n",
       "4916        9.0          8.0          37\n",
       "4917       21.0         24.0          38\n",
       "4918       15.0         18.0          39\n",
       "4919       19.0         17.5          40\n",
       "\n",
       "[4920 rows x 3 columns]"
      ]
     },
     "execution_count": 8,
     "metadata": {},
     "output_type": "execute_result"
    }
   ],
   "source": [
    "Symptoms = newData[['Symptom_1','Symptom_2','Symptom_3','Symptom_4','Symptom_5','Symptom_6']]\n",
    "XSum = Symptoms.sum(axis=1) #Sum of each row, \n",
    "ClassCol = newData['Disease']\n",
    "YSum = (6-((newData.isnull().sum(axis=1))))*newData.median(axis=1) #How many symptoms\n",
    "\n",
    "Values = [XSum, YSum, ClassCol]\n",
    "headers = [\"SumOfSymp\", \"CountOfSymp\", \"UniqueCode\"]\n",
    "\n",
    "CleanedData = pd.concat(Values, axis=1, keys=headers)\n",
    "\n",
    "CleanedData"
   ]
  },
  {
   "cell_type": "markdown",
   "id": "83f08faa",
   "metadata": {},
   "source": [
    "Nu vil jeg så prøve at plotte"
   ]
  },
  {
   "cell_type": "code",
   "execution_count": null,
   "id": "d05f05c1",
   "metadata": {},
   "outputs": [],
   "source": []
  },
  {
   "cell_type": "code",
   "execution_count": 9,
   "id": "ad220289",
   "metadata": {},
   "outputs": [
    {
     "data": {
      "text/plain": [
       "Text(0, 0.5, 'Number of symptoms (scaled)')"
      ]
     },
     "execution_count": 9,
     "metadata": {},
     "output_type": "execute_result"
    },
    {
     "data": {
      "image/png": "[encoded data removed]",
      "text/plain": [
       "<Figure size 432x288 with 1 Axes>"
      ]
     },
     "metadata": {
      "needs_background": "light"
     },
     "output_type": "display_data"
    }
   ],
   "source": [
    "groups = CleanedData.groupby(\"UniqueCode\")\n",
    "\n",
    "fig = plt.figure()\n",
    "\n",
    "fig.suptitle('41 classes')\n",
    "for name, group in groups:\n",
    "    plt.plot(group[\"SumOfSymp\"], group[\"CountOfSymp\"], marker=\"o\", linestyle=\"\", label=name)\n",
    "plt.legend()\n",
    "plt.xlabel('Sum of symptoms')\n",
    "plt.ylabel('Number of symptoms (scaled)')\n",
    "\n",
    "#CleanedData.plot(kind='scatter', x='CountOfSymp', y = 'SumOfSymp')"
   ]
  },
  {
   "cell_type": "markdown",
   "id": "85c0d606",
   "metadata": {},
   "source": [
    "\n",
    "Next step - Prøve kNN på selvlavet data/features mod newData data. Sammenlign score\n"
   ]
  },
  {
   "cell_type": "code",
   "execution_count": 10,
   "id": "07cebd51",
   "metadata": {},
   "outputs": [],
   "source": [
    "from sklearn.metrics import euclidean_distances\n",
    "from sklearn.neighbors import KNeighborsClassifier\n"
   ]
  },
  {
   "cell_type": "markdown",
   "id": "bcfc048d",
   "metadata": {},
   "source": [
    "For linear modeller og andet komplekst, vil jeg her prøve at udvælge et par diseases. Herfra kan man så nemt lave hvad man vil med dem"
   ]
  },
  {
   "cell_type": "code",
   "execution_count": 11,
   "id": "f0f70bd8",
   "metadata": {},
   "outputs": [
    {
     "data": {
      "text/html": [
       "<div>\n",
       "<style scoped>\n",
       "    .dataframe tbody tr th:only-of-type {\n",
       "        vertical-align: middle;\n",
       "    }\n",
       "\n",
       "    .dataframe tbody tr th {\n",
       "        vertical-align: top;\n",
       "    }\n",
       "\n",
       "    .dataframe thead th {\n",
       "        text-align: right;\n",
       "    }\n",
       "</style>\n",
       "<table border=\"1\" class=\"dataframe\">\n",
       "  <thead>\n",
       "    <tr style=\"text-align: right;\">\n",
       "      <th></th>\n",
       "      <th>Disease</th>\n",
       "      <th>Symptom_1</th>\n",
       "      <th>Symptom_2</th>\n",
       "      <th>Symptom_3</th>\n",
       "      <th>Symptom_4</th>\n",
       "      <th>Symptom_5</th>\n",
       "      <th>Symptom_6</th>\n",
       "    </tr>\n",
       "  </thead>\n",
       "  <tbody>\n",
       "    <tr>\n",
       "      <th>0</th>\n",
       "      <td>0</td>\n",
       "      <td>1</td>\n",
       "      <td>3</td>\n",
       "      <td>4</td>\n",
       "      <td>6.0</td>\n",
       "      <td>NaN</td>\n",
       "      <td>NaN</td>\n",
       "    </tr>\n",
       "    <tr>\n",
       "      <th>1</th>\n",
       "      <td>0</td>\n",
       "      <td>3</td>\n",
       "      <td>4</td>\n",
       "      <td>6</td>\n",
       "      <td>NaN</td>\n",
       "      <td>NaN</td>\n",
       "      <td>NaN</td>\n",
       "    </tr>\n",
       "    <tr>\n",
       "      <th>2</th>\n",
       "      <td>0</td>\n",
       "      <td>1</td>\n",
       "      <td>4</td>\n",
       "      <td>6</td>\n",
       "      <td>NaN</td>\n",
       "      <td>NaN</td>\n",
       "      <td>NaN</td>\n",
       "    </tr>\n",
       "    <tr>\n",
       "      <th>3</th>\n",
       "      <td>0</td>\n",
       "      <td>1</td>\n",
       "      <td>3</td>\n",
       "      <td>6</td>\n",
       "      <td>NaN</td>\n",
       "      <td>NaN</td>\n",
       "      <td>NaN</td>\n",
       "    </tr>\n",
       "    <tr>\n",
       "      <th>4</th>\n",
       "      <td>0</td>\n",
       "      <td>1</td>\n",
       "      <td>3</td>\n",
       "      <td>4</td>\n",
       "      <td>NaN</td>\n",
       "      <td>NaN</td>\n",
       "      <td>NaN</td>\n",
       "    </tr>\n",
       "    <tr>\n",
       "      <th>...</th>\n",
       "      <td>...</td>\n",
       "      <td>...</td>\n",
       "      <td>...</td>\n",
       "      <td>...</td>\n",
       "      <td>...</td>\n",
       "      <td>...</td>\n",
       "      <td>...</td>\n",
       "    </tr>\n",
       "    <tr>\n",
       "      <th>4879</th>\n",
       "      <td>0</td>\n",
       "      <td>1</td>\n",
       "      <td>3</td>\n",
       "      <td>4</td>\n",
       "      <td>6.0</td>\n",
       "      <td>NaN</td>\n",
       "      <td>NaN</td>\n",
       "    </tr>\n",
       "    <tr>\n",
       "      <th>4885</th>\n",
       "      <td>6</td>\n",
       "      <td>3</td>\n",
       "      <td>6</td>\n",
       "      <td>7</td>\n",
       "      <td>5.0</td>\n",
       "      <td>NaN</td>\n",
       "      <td>NaN</td>\n",
       "    </tr>\n",
       "    <tr>\n",
       "      <th>4898</th>\n",
       "      <td>19</td>\n",
       "      <td>3</td>\n",
       "      <td>5</td>\n",
       "      <td>3</td>\n",
       "      <td>4.0</td>\n",
       "      <td>5.0</td>\n",
       "      <td>4.0</td>\n",
       "    </tr>\n",
       "    <tr>\n",
       "      <th>4916</th>\n",
       "      <td>37</td>\n",
       "      <td>3</td>\n",
       "      <td>2</td>\n",
       "      <td>2</td>\n",
       "      <td>2.0</td>\n",
       "      <td>NaN</td>\n",
       "      <td>NaN</td>\n",
       "    </tr>\n",
       "    <tr>\n",
       "      <th>4919</th>\n",
       "      <td>40</td>\n",
       "      <td>3</td>\n",
       "      <td>7</td>\n",
       "      <td>4</td>\n",
       "      <td>2.0</td>\n",
       "      <td>3.0</td>\n",
       "      <td>NaN</td>\n",
       "    </tr>\n",
       "  </tbody>\n",
       "</table>\n",
       "<p>600 rows × 7 columns</p>\n",
       "</div>"
      ],
      "text/plain": [
       "      Disease  Symptom_1  Symptom_2  Symptom_3  Symptom_4  Symptom_5  \\\n",
       "0           0          1          3          4        6.0        NaN   \n",
       "1           0          3          4          6        NaN        NaN   \n",
       "2           0          1          4          6        NaN        NaN   \n",
       "3           0          1          3          6        NaN        NaN   \n",
       "4           0          1          3          4        NaN        NaN   \n",
       "...       ...        ...        ...        ...        ...        ...   \n",
       "4879        0          1          3          4        6.0        NaN   \n",
       "4885        6          3          6          7        5.0        NaN   \n",
       "4898       19          3          5          3        4.0        5.0   \n",
       "4916       37          3          2          2        2.0        NaN   \n",
       "4919       40          3          7          4        2.0        3.0   \n",
       "\n",
       "      Symptom_6  \n",
       "0           NaN  \n",
       "1           NaN  \n",
       "2           NaN  \n",
       "3           NaN  \n",
       "4           NaN  \n",
       "...         ...  \n",
       "4879        NaN  \n",
       "4885        NaN  \n",
       "4898        4.0  \n",
       "4916        NaN  \n",
       "4919        NaN  \n",
       "\n",
       "[600 rows x 7 columns]"
      ]
     },
     "execution_count": 11,
     "metadata": {},
     "output_type": "execute_result"
    }
   ],
   "source": [
    "FiveDis = newData[(newData['Disease']==6)|\n",
    "                  (newData['Disease']==40)|\n",
    "                  (newData['Disease']==0)|\n",
    "                  (newData['Disease']==37)|\n",
    "                  (newData['Disease']==19)]\n",
    "\n",
    "FiveDis"
   ]
  },
  {
   "cell_type": "code",
   "execution_count": 12,
   "id": "5b1cfc48",
   "metadata": {},
   "outputs": [
    {
     "name": "stderr",
     "output_type": "stream",
     "text": [
      "C:\\Users\\marti\\AppData\\Local\\Temp/ipykernel_26012/705881483.py:51: MatplotlibDeprecationWarning: shading='flat' when X and Y have the same dimensions as C is deprecated since 3.3.  Either specify the corners of the quadrilaterals with X and Y, or pass shading='auto', 'nearest' or 'gouraud', or set rcParams['pcolor.shading'].  This will become an error two minor releases later.\n",
      "  plt.pcolormesh(xx, yy, Z)\n"
     ]
    },
    {
     "data": {
      "image/png": "[encoded data removed]",
      "text/plain": [
       "<Figure size 432x288 with 1 Axes>"
      ]
     },
     "metadata": {
      "needs_background": "light"
     },
     "output_type": "display_data"
    }
   ],
   "source": [
    "import numpy as np\n",
    "import matplotlib.pyplot as plt\n",
    "import seaborn as sns\n",
    "from matplotlib.colors import ListedColormap\n",
    "from sklearn import neighbors, datasets\n",
    "\n",
    "n_neighbors = 6\n",
    "\n",
    "\n",
    "XSum2 = FiveDis[['Symptom_1','Symptom_2','Symptom_3','Symptom_4','Symptom_5','Symptom_6']].sum(axis=1) #Sum of each row, \n",
    "ClassCol2 = FiveDis['Disease']\n",
    "YSum2 = (6-((FiveDis.isnull().sum(axis=1))))*FiveDis.max(axis=1) #How many symptoms\n",
    "\n",
    "Values = [XSum2, YSum2, ClassCol2]\n",
    "headers = [\"SumOfSymp\", \"CountOfSymp\", \"UniqueCode\"]\n",
    "\n",
    "CleanedData2 = pd.concat(Values, axis=1, keys=headers)\n",
    "\n",
    "\n",
    "# import some data to play with\n",
    "\n",
    "# we only take the first two features. We could avoid this ugly\n",
    "# slicing by using a two-dim dataset\n",
    "X = CleanedData2.iloc[:,0:2].values #OBS HER!!!!!!!!!!!!!!!!!!!!!!!!!!!!!!! Hvis vi får slice problem når der skal plottes\n",
    "y = CleanedData2.iloc[:,2].values\n",
    "\n",
    "h = 0.02  # step size in the mesh\n",
    "\n",
    "# Create color maps\n",
    "cmap_light = ListedColormap(['#FFAAAA', '#AAFFAA','#00AAFF'])\n",
    "cmap_bold = ListedColormap(['#FF0000', '#00FF00','#00AAFF'])\n",
    "cmap_test = ListedColormap(['violet', 'blue','purple','yellow','green'])\n",
    "cmap_test2 = ListedColormap(['red','orange','blue','gold','k'])\n",
    "\n",
    "# we create an instance of Neighbours Classifier and fit the data.\n",
    "clf = neighbors.KNeighborsClassifier(n_neighbors, weights='distance')\n",
    "clf.fit(X, y)\n",
    "\n",
    "# calculate min, max and limits\n",
    "x_min, x_max = X[:, 0].min() - 1, X[:, 0].max() + 1\n",
    "y_min, y_max = X[:, 1].min() - 1, X[:, 1].max() + 1\n",
    "xx, yy = np.meshgrid(np.arange(x_min, x_max, h),\n",
    "np.arange(y_min, y_max, h))\n",
    "\n",
    "# predict class using data and kNN classifier\n",
    "Z = clf.predict(np.c_[xx.ravel(), yy.ravel()])\n",
    "\n",
    "# Put the result into a color plot\n",
    "Z = Z.reshape(xx.shape)\n",
    "plt.figure()\n",
    "plt.pcolormesh(xx, yy, Z)\n",
    "\n",
    "# Plot also the training points\n",
    "plt.scatter(X[:, 0], X[:, 1], c=y, cmap=cmap_test)\n",
    "plt.xlim(xx.min(), xx.max())\n",
    "plt.ylim(yy.min(), yy.max())\n",
    "plt.title(\"5-Class classification (k = %i)\" % (n_neighbors))\n",
    "plt.show()\n"
   ]
  },
  {
   "cell_type": "markdown",
   "id": "0bbd848c",
   "metadata": {},
   "source": [
    "Trying built in kNN - No possible graph with 6 features VIS FORSKELLIGE RANDOMS STATES"
   ]
  },
  {
   "cell_type": "code",
   "execution_count": 13,
   "id": "0775ee27",
   "metadata": {},
   "outputs": [
    {
     "data": {
      "text/plain": [
       "<matplotlib.legend.Legend at 0x192a745a790>"
      ]
     },
     "execution_count": 13,
     "metadata": {},
     "output_type": "execute_result"
    },
    {
     "data": {
      "image/png": "[encoded data removed]",
      "text/plain": [
       "<Figure size 432x288 with 1 Axes>"
      ]
     },
     "metadata": {
      "needs_background": "light"
     },
     "output_type": "display_data"
    }
   ],
   "source": [
    "#Using newData\n",
    "\n",
    "knntest = newData.fillna(0)\n",
    "\n",
    "X_1 = knntest.drop('Disease', axis=1)\n",
    "y_1 = knntest['Disease']\n",
    "\n",
    "training_scores = []\n",
    "test_scores = []\n",
    "\n",
    "X_train, X_test, y_train, y_test = train_test_split(X_1, y_1, test_size=0.33, random_state=18) #Der er vel sandssynlighed for at \n",
    "#en af de 41 klasser ikke kommer med når man splitter det\n",
    "\n",
    "#knn = KNeighborsClassifier(n_neighbors=5)\n",
    "#knn.fit(X_train, y_train)\n",
    "#print(\"accuracy: {:.2f}\".format(knn.score(X_test, y_test)))\n",
    "#y_pred = knn.predict(X_test)\n",
    "\n",
    "neighbors = range(1, 50, 2)\n",
    "\n",
    "for n_neighbors in neighbors:\n",
    "    knn = KNeighborsClassifier(n_neighbors=n_neighbors).fit(X_train, y_train)\n",
    "    training_scores.append(knn.score(X_train, y_train))\n",
    "    test_scores.append(knn.score(X_test, y_test))\n",
    "    \n",
    "plt.figure()\n",
    "plt.plot(neighbors, training_scores, label=\"Training scores\")\n",
    "plt.plot(neighbors, test_scores, label=\"Test scores\")\n",
    "plt.ylabel(\"Accuracy\")\n",
    "plt.xlabel(\"n_neighbors\")\n",
    "plt.legend()"
   ]
  },
  {
   "cell_type": "markdown",
   "id": "201cfb35",
   "metadata": {},
   "source": [
    "Prøver med kun 5 klasser\n",
    "\n",
    "Giver mening der er så svært at forudsige det her datasæt med kNN. Der er 41 klasser. siden hvert sympton også kun er vægtet 1-7, så der er like mindst 3-4 klasser lige oven i hinanden alle steder"
   ]
  },
  {
   "cell_type": "code",
   "execution_count": 14,
   "id": "973a234d",
   "metadata": {},
   "outputs": [
    {
     "data": {
      "text/plain": [
       "<matplotlib.legend.Legend at 0x192a74e67f0>"
      ]
     },
     "execution_count": 14,
     "metadata": {},
     "output_type": "execute_result"
    },
    {
     "data": {
      "image/png": "[encoded data removed]",
      "text/plain": [
       "<Figure size 432x288 with 1 Axes>"
      ]
     },
     "metadata": {
      "needs_background": "light"
     },
     "output_type": "display_data"
    }
   ],
   "source": [
    "#Using newData\n",
    "\n",
    "FiveDisKnn = FiveDis.fillna(0)\n",
    "\n",
    "X_2 = FiveDisKnn[['Symptom_1','Symptom_2','Symptom_3','Symptom_4','Symptom_5','Symptom_6']]\n",
    "y_2 = FiveDisKnn['Disease']\n",
    "\n",
    "training_scores = []\n",
    "test_scores = []\n",
    "\n",
    "X_train, X_test, y_train, y_test = train_test_split(X_2, y_2, test_size=0.25, random_state=80) #Der er vel sandssynlighed for at \n",
    "#en af de 41 klasser ikke kommer med når man splitter det\n",
    "\n",
    "#knn = KNeighborsClassifier(n_neighbors=5)\n",
    "#knn.fit(X_train, y_train)\n",
    "#print(\"accuracy: {:.2f}\".format(knn.score(X_test, y_test)))\n",
    "#y_pred = knn.predict(X_test)\n",
    "\n",
    "neighbors = range(1, 50, 2)\n",
    "\n",
    "for n_neighbors in neighbors:\n",
    "    knn = KNeighborsClassifier(n_neighbors=n_neighbors).fit(X_train, y_train)\n",
    "    training_scores.append(knn.score(X_train, y_train))\n",
    "    test_scores.append(knn.score(X_test, y_test))\n",
    "    \n",
    "plt.figure()\n",
    "plt.plot(neighbors, training_scores, label=\"Training scores\")\n",
    "plt.plot(neighbors, test_scores, label=\"Test scores\")\n",
    "plt.ylabel(\"Accuracy\")\n",
    "plt.xlabel(\"n_neighbors\")\n",
    "plt.legend()"
   ]
  },
  {
   "cell_type": "markdown",
   "id": "bbfec2c9",
   "metadata": {},
   "source": [
    "Find range af sum af symp, indel i 5 severity klasser\n",
    "Så din X er sum af symp, Y er mængden af symptomer scalet someway og predict er de 5 serverity klasser.\n",
    "Kan bruges til? Hvilken måde skal en patient modtages på?"
   ]
  },
  {
   "cell_type": "code",
   "execution_count": 15,
   "id": "4b07eda7",
   "metadata": {},
   "outputs": [],
   "source": [
    "#Finder min og maks symp sum\n",
    "\n",
    "SeverityClass = newData\n",
    "\n",
    "Maxi = CleanedData['SumOfSymp'].max() #31\n",
    "Mini = CleanedData['SumOfSymp'].min() #6\n",
    "\n",
    "#Finding the five intervals\n",
    "\n",
    "Interval = (Maxi-Mini)/5 #5 - Meaning for each 5 symptom weight, a new severity class is optained\n",
    "\n",
    "#Assigning a class to each row\n",
    "#Severity 1: 6-11\n",
    "#Severity 2: 11-16\n",
    "#Severity 3: 16-21\n",
    "#Severity 4: 21-26\n",
    "#Severity 5: 26-31\n",
    "\n",
    "XSum = Symptoms.sum(axis=1)\n",
    "YSum = (6-((newData.isnull().sum(axis=1))))*newData.median(axis=1)\n",
    "SeverityClass = XSum.copy() #Bare en placeholder, så den har samme format og størrelse\n",
    "\n",
    "for i in range(len(CleanedData)):\n",
    "    if  6 <= XSum[i] < 11:\n",
    "        SeverityClass[i] = 1\n",
    "    if 11 <= XSum[i] < 16:\n",
    "        SeverityClass[i] = 2\n",
    "    if 16 <= XSum[i] < 21:\n",
    "        SeverityClass[i] = 3\n",
    "    if 21 <= XSum[i] < 26:\n",
    "        SeverityClass[i] = 4\n",
    "    if 26 <= XSum[i] <= 31:\n",
    "        SeverityClass[i] = 5\n",
    "    \n",
    "Values = [XSum, YSum, SeverityClass]\n",
    "headers = [\"SumOfSymp\", \"CountOfSymp\", \"SeverityClass\"]\n",
    "\n",
    "SeverityData = pd.concat(Values, axis=1, keys=headers)\n",
    "\n"
   ]
  },
  {
   "cell_type": "code",
   "execution_count": 16,
   "id": "a3f8a937",
   "metadata": {},
   "outputs": [
    {
     "data": {
      "text/plain": [
       "Text(0, 0.5, 'Number of symptoms (scaled)')"
      ]
     },
     "execution_count": 16,
     "metadata": {},
     "output_type": "execute_result"
    },
    {
     "data": {
      "image/png": "[encoded data removed]",
      "text/plain": [
       "<Figure size 432x288 with 1 Axes>"
      ]
     },
     "metadata": {
      "needs_background": "light"
     },
     "output_type": "display_data"
    }
   ],
   "source": [
    "groups = SeverityData.groupby(\"SeverityClass\")\n",
    "\n",
    "fig = plt.figure()\n",
    "\n",
    "fig.suptitle('5 severity classes')\n",
    "\n",
    "for name, group in groups:\n",
    "    plt.plot(group[\"SumOfSymp\"], group[\"CountOfSymp\"], marker=\"o\", linestyle=\"\", label=name)\n",
    "plt.legend()\n",
    "\n",
    "\n",
    "plt.xlabel('Sum of symptoms')\n",
    "plt.ylabel('Number of symptoms (scaled)')\n",
    "\n"
   ]
  },
  {
   "cell_type": "code",
   "execution_count": 21,
   "id": "3cb63998",
   "metadata": {},
   "outputs": [
    {
     "name": "stderr",
     "output_type": "stream",
     "text": [
      "C:\\Users\\marti\\AppData\\Local\\Temp/ipykernel_26012/1215772963.py:38: MatplotlibDeprecationWarning: shading='flat' when X and Y have the same dimensions as C is deprecated since 3.3.  Either specify the corners of the quadrilaterals with X and Y, or pass shading='auto', 'nearest' or 'gouraud', or set rcParams['pcolor.shading'].  This will become an error two minor releases later.\n",
      "  plt.pcolormesh(xx, yy, Z, cmap=cmap_light)\n"
     ]
    },
    {
     "data": {
      "image/png": "[encoded data removed]",
      "text/plain": [
       "<Figure size 432x288 with 1 Axes>"
      ]
     },
     "metadata": {
      "needs_background": "light"
     },
     "output_type": "display_data"
    }
   ],
   "source": [
    "import matplotlib\n",
    "\n",
    "import numpy as np\n",
    "import matplotlib.pyplot as plt\n",
    "from matplotlib.colors import ListedColormap\n",
    "from sklearn import neighbors, datasets\n",
    "\n",
    "n_neighbors = 15\n",
    "\n",
    "# prepare data\n",
    "XPre = SeverityData.drop('SeverityClass', axis=1)\n",
    "yPre = SeverityData['SeverityClass']\n",
    "h = .02\n",
    "\n",
    "X = XPre.values #OBS HER!!!!!!!!!!!!!!!!!!!!!!!!!!!!!!! Hvis vi får slice problem når der skal plottes\n",
    "y = yPre.values\n",
    "\n",
    "# Create color maps\n",
    "cmap_light = ListedColormap([\"green\", \"orange\",\"purple\",\"red\",'yellow'])\n",
    "cmap_bold = ListedColormap([\"green\", \"orange\",\"purple\",\"red\",'yellow'])\n",
    "\n",
    "# we create an instance of Neighbours Classifier and fit the data.\n",
    "clf = neighbors.KNeighborsClassifier(n_neighbors, weights='distance')\n",
    "clf.fit(X, y)\n",
    "\n",
    "# calculate min, max and limits\n",
    "x_min, x_max = X[:, 0].min() - 1, X[:, 0].max() + 1\n",
    "y_min, y_max = X[:, 1].min() - 1, X[:, 1].max() + 1\n",
    "xx, yy = np.meshgrid(np.arange(x_min, x_max, h),\n",
    "np.arange(y_min, y_max, h))\n",
    "\n",
    "# predict class using data and kNN classifier\n",
    "Z = clf.predict(np.c_[xx.ravel(), yy.ravel()])\n",
    "\n",
    "# Put the result into a color plot\n",
    "Z = Z.reshape(xx.shape)\n",
    "plt.figure()\n",
    "plt.pcolormesh(xx, yy, Z, cmap=cmap_light)\n",
    "\n",
    "# Plot also the training points\n",
    "plt.scatter(X[:, 0], X[:, 1], c=y, cmap=cmap_bold, edgecolor='k')\n",
    "plt.xlim(xx.min(), xx.max())\n",
    "plt.ylim(yy.min(), yy.max())\n",
    "plt.title(\"5-Class classification (k = %i)\" % (n_neighbors))\n",
    "plt.show()"
   ]
  },
  {
   "cell_type": "code",
   "execution_count": 25,
   "id": "344e0782",
   "metadata": {},
   "outputs": [
    {
     "data": {
      "image/png": "[encoded data removed]",
      "text/plain": [
       "<Figure size 1152x504 with 2 Axes>"
      ]
     },
     "metadata": {
      "needs_background": "light"
     },
     "output_type": "display_data"
    }
   ],
   "source": [
    "from sklearn.metrics import accuracy_score, confusion_matrix, classification_report\n",
    "\n",
    "X_Severity = SeverityData.drop('SeverityClass', axis=1)\n",
    "y_Severity = SeverityData['SeverityClass']\n",
    "\n",
    "X_train, X_test, y_train, y_test = train_test_split(X_Severity, y_Severity, test_size=0.33, random_state=42)\n",
    "\n",
    "model = KNeighborsClassifier(n_neighbors=15)\n",
    "model.fit(X_train, y_train)\n",
    "\n",
    "y_pred_test = model.predict(X_test)\n",
    "matrix = confusion_matrix(y_test, y_pred_test)\n",
    "\n",
    "# Build the plot\n",
    "plt.figure(figsize=(16,7))\n",
    "sns.set(font_scale=1.4)\n",
    "sns.heatmap(matrix, annot=True, annot_kws={'size':10},\n",
    "            cmap=plt.cm.Greens, linewidths=0.2)\n",
    "\n",
    "# Add labels to the plot\n",
    "class_names = ['Severity1','Severity2','Severity3','Severity4','Severity5']\n",
    "tick_marks = np.arange(len(class_names))\n",
    "tick_marks2 = tick_marks + 0.5\n",
    "plt.xticks(tick_marks, class_names, rotation=25)\n",
    "plt.yticks(tick_marks2, class_names, rotation=0)\n",
    "plt.xlabel('Predicted label')\n",
    "plt.ylabel('True label')\n",
    "plt.title('Confusion Matrix for Random Forest Model')\n",
    "plt.show()"
   ]
  },
  {
   "cell_type": "code",
   "execution_count": 22,
   "id": "b7e10132",
   "metadata": {},
   "outputs": [
    {
     "data": {
      "text/plain": [
       "<matplotlib.legend.Legend at 0x1928f5c73a0>"
      ]
     },
     "execution_count": 22,
     "metadata": {},
     "output_type": "execute_result"
    },
    {
     "data": {
      "image/png": "[encoded data removed]",
      "text/plain": [
       "<Figure size 432x288 with 1 Axes>"
      ]
     },
     "metadata": {
      "needs_background": "light"
     },
     "output_type": "display_data"
    }
   ],
   "source": [
    "\n",
    "X_Severity = SeverityData.drop('SeverityClass', axis=1)\n",
    "y_Severity = SeverityData['SeverityClass']\n",
    "\n",
    "training_scores = []\n",
    "test_scores = []\n",
    "\n",
    "X_train, X_test, y_train, y_test = train_test_split(X_Severity, y_Severity, test_size=0.33, random_state=42) #Der er vel sandssynlighed for at \n",
    "#en af de 41 klasser ikke kommer med når man splitter det\n",
    "\n",
    "\n",
    "\n",
    "#knn = KNeighborsClassifier(n_neighbors=5)\n",
    "#knn.fit(X_train, y_train)\n",
    "#print(\"accuracy: {:.2f}\".format(knn.score(X_test, y_test)))\n",
    "#y_pred = knn.predict(X_test)\n",
    "\n",
    "neighbors = range(1, 100, 2)\n",
    "\n",
    "for n_neighbors in neighbors:\n",
    "    knn = KNeighborsClassifier(n_neighbors=n_neighbors).fit(X_train, y_train)\n",
    "    training_scores.append(knn.score(X_train, y_train))\n",
    "    test_scores.append(knn.score(X_test, y_test))\n",
    "    \n",
    "plt.figure()\n",
    "plt.plot(neighbors, training_scores, label=\"Training scores\")\n",
    "plt.plot(neighbors, test_scores, label=\"Test scores\")\n",
    "plt.ylabel(\"Accuracy\")\n",
    "plt.xlabel(\"n_neighbors\")\n",
    "plt.legend()"
   ]
  },
  {
   "cell_type": "markdown",
   "id": "3fdb1f29",
   "metadata": {},
   "source": [
    "kNN med hepa"
   ]
  },
  {
   "cell_type": "code",
   "execution_count": 19,
   "id": "68e9fdc1",
   "metadata": {},
   "outputs": [
    {
     "name": "stderr",
     "output_type": "stream",
     "text": [
      "C:\\Users\\marti\\AppData\\Local\\Temp/ipykernel_26012/1877769246.py:53: MatplotlibDeprecationWarning: shading='flat' when X and Y have the same dimensions as C is deprecated since 3.3.  Either specify the corners of the quadrilaterals with X and Y, or pass shading='auto', 'nearest' or 'gouraud', or set rcParams['pcolor.shading'].  This will become an error two minor releases later.\n",
      "  plt.pcolormesh(xx, yy, Z, cmap=cmap_light)\n"
     ]
    },
    {
     "data": {
      "image/png": "[encoded data removed]",
      "text/plain": [
       "<Figure size 432x288 with 1 Axes>"
      ]
     },
     "metadata": {
      "needs_background": "light"
     },
     "output_type": "display_data"
    }
   ],
   "source": [
    "import matplotlib\n",
    "\n",
    "import numpy as np\n",
    "import matplotlib.pyplot as plt\n",
    "from matplotlib.colors import ListedColormap\n",
    "from sklearn import neighbors, datasets\n",
    "\n",
    "# prepare data\n",
    "XPre = HepData.drop('Disease', axis=1)\n",
    "yPre = HepData['Disease']\n",
    "h = .02\n",
    "\n",
    "XSumHep = XPre.sum(axis=1)\n",
    "YSumHep = (17-((HepData.isnull().sum(axis=1))))*HepData.median(axis=1)\n",
    "\n",
    "Values = [XSumHep, YSumHep, yPre]\n",
    "headers = [\"SumOfSymp\", \"CountOfSymp\", \"OneToFive\"]\n",
    "\n",
    "HepClean = pd.concat(Values, axis=1, keys=headers)\n",
    "\n",
    "#\n",
    "\n",
    "n_neighbors = 120\n",
    "\n",
    "# prepare data\n",
    "XP = HepClean.drop('OneToFive', axis=1)\n",
    "yP = HepClean['OneToFive']\n",
    "h = .02\n",
    "\n",
    "X = XP.values #OBS HER!!!!!!!!!!!!!!!!!!!!!!!!!!!!!!! Hvis vi får slice problem når der skal plottes\n",
    "y = yP.values\n",
    "\n",
    "# Create color maps\n",
    "cmap_light = ListedColormap([\"green\", \"orange\",\"purple\",\"red\",'yellow'])\n",
    "cmap_bold = ListedColormap([\"green\", \"orange\",\"purple\",\"red\",'yellow'])\n",
    "\n",
    "# we create an instance of Neighbours Classifier and fit the data.\n",
    "clf = neighbors.KNeighborsClassifier(n_neighbors, weights='distance')\n",
    "clf.fit(X, y)\n",
    "\n",
    "# calculate min, max and limits\n",
    "x_min, x_max = X[:, 0].min() - 1, X[:, 0].max() + 1\n",
    "y_min, y_max = X[:, 1].min() - 1, X[:, 1].max() + 1\n",
    "xx, yy = np.meshgrid(np.arange(x_min, x_max, h),\n",
    "np.arange(y_min, y_max, h))\n",
    "\n",
    "# predict class using data and kNN classifier\n",
    "Z = clf.predict(np.c_[xx.ravel(), yy.ravel()])\n",
    "\n",
    "# Put the result into a color plot\n",
    "Z = Z.reshape(xx.shape)\n",
    "plt.figure()\n",
    "plt.pcolormesh(xx, yy, Z, cmap=cmap_light)\n",
    "\n",
    "# Plot also the training points\n",
    "plt.scatter(X[:, 0], X[:, 1], c=y, cmap=cmap_bold, edgecolor='k')\n",
    "plt.xlim(xx.min(), xx.max())\n",
    "plt.ylim(yy.min(), yy.max())\n",
    "plt.title(\"5-Class classification (k = %i)\" % (n_neighbors))\n",
    "plt.show()\n",
    "\n"
   ]
  }
 ],
 "metadata": {
  "kernelspec": {
   "display_name": "Python 3 (ipykernel)",
   "language": "python",
   "name": "python3"
  },
  "language_info": {
   "codemirror_mode": {
    "name": "ipython",
    "version": 3
   },
   "file_extension": ".py",
   "mimetype": "text/x-python",
   "name": "python",
   "nbconvert_exporter": "python",
   "pygments_lexer": "ipython3",
   "version": "3.9.7"
  }
 },
 "nbformat": 4,
 "nbformat_minor": 5
}
