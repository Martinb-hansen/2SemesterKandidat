{
 "cells": [
  {
   "cell_type": "markdown",
   "id": "448f9a48",
   "metadata": {},
   "source": [
    "# Import dataset"
   ]
  },
  {
   "cell_type": "code",
   "execution_count": 13,
   "id": "cc134adc",
   "metadata": {},
   "outputs": [
    {
     "name": "stdout",
     "output_type": "stream",
     "text": [
      "(4920, 18)\n"
     ]
    },
    {
     "data": {
      "text/plain": [
       "0                    itching\n",
       "1                  skin_rash\n",
       "2                    itching\n",
       "3                    itching\n",
       "4                    itching\n",
       "                ...         \n",
       "4915                vomiting\n",
       "4916               skin_rash\n",
       "4917     burning_micturition\n",
       "4918               skin_rash\n",
       "4919               skin_rash\n",
       "Name: Symptom_1, Length: 4920, dtype: object"
      ]
     },
     "execution_count": 13,
     "metadata": {},
     "output_type": "execute_result"
    }
   ],
   "source": [
    "import numpy as np\n",
    "import pandas as pd\n",
    "import csv\n",
    "\n",
    "filename = \"dataset.csv\"\n",
    "data = pd.read_csv(filename)\n",
    "\n",
    "print(data.shape)\n",
    "\n",
    "data[\"Symptom_1\"]"
   ]
  },
  {
   "cell_type": "code",
   "execution_count": null,
   "id": "04d4169b",
   "metadata": {},
   "outputs": [],
   "source": []
  }
 ],
 "metadata": {
  "kernelspec": {
   "display_name": "Python 3 (ipykernel)",
   "language": "python",
   "name": "python3"
  },
  "language_info": {
   "codemirror_mode": {
    "name": "ipython",
    "version": 3
   },
   "file_extension": ".py",
   "mimetype": "text/x-python",
   "name": "python",
   "nbconvert_exporter": "python",
   "pygments_lexer": "ipython3",
   "version": "3.9.7"
  }
 },
 "nbformat": 4,
 "nbformat_minor": 5
}
