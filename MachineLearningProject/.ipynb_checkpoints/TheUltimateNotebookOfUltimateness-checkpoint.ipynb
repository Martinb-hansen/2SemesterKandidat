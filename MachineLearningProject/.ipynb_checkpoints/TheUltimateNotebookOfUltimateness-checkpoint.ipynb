{
 "cells": [
  {
   "cell_type": "markdown",
   "id": "286f41d5",
   "metadata": {},
   "source": [
    "# Notebook for Group 1 - Disease prediction"
   ]
  },
  {
   "cell_type": "markdown",
   "id": "1b7ca8f0",
   "metadata": {},
   "source": [
    "Three models will be tested:\n",
    "kNN\n",
    "Decision tree\n",
    "Logistic regression\n"
   ]
  },
  {
   "cell_type": "code",
   "execution_count": null,
   "id": "d88d3a2d",
   "metadata": {},
   "outputs": [],
   "source": [
    "Data read (alle sammen)\n",
    "Lave data med alle features og alle erstattet med weight\n",
    "al nAn til 0\n"
   ]
  },
  {
   "cell_type": "markdown",
   "id": "1638c413",
   "metadata": {},
   "source": [
    "## kNN"
   ]
  },
  {
   "cell_type": "code",
   "execution_count": null,
   "id": "4173f47c",
   "metadata": {},
   "outputs": [],
   "source": [
    "train_test_split\n",
    "fit model\n",
    "grid search feature importance\n",
    "test train accuracy\n",
    "confusion matrix for den bedste\n",
    "Blot forklare i opgave, at der blev prøvet med 5 serverity classes som en test, men for at kunne sammenligne bedre gik vi over\n",
    "til 5 ens sygdomme for at bedre at kunne sammenligne modeller\n",
    "\n",
    "Hepatitis fremover\n",
    "og test her"
   ]
  },
  {
   "cell_type": "markdown",
   "id": "89859158",
   "metadata": {},
   "source": [
    "## Random Decision Trees"
   ]
  },
  {
   "cell_type": "code",
   "execution_count": null,
   "id": "e3c5a87e",
   "metadata": {},
   "outputs": [],
   "source": []
  },
  {
   "cell_type": "markdown",
   "id": "f2c49ce6",
   "metadata": {},
   "source": [
    "## Logistic regression"
   ]
  },
  {
   "cell_type": "code",
   "execution_count": null,
   "id": "202c1e61",
   "metadata": {},
   "outputs": [],
   "source": []
  }
 ],
 "metadata": {
  "kernelspec": {
   "display_name": "Python 3 (ipykernel)",
   "language": "python",
   "name": "python3"
  },
  "language_info": {
   "codemirror_mode": {
    "name": "ipython",
    "version": 3
   },
   "file_extension": ".py",
   "mimetype": "text/x-python",
   "name": "python",
   "nbconvert_exporter": "python",
   "pygments_lexer": "ipython3",
   "version": "3.9.7"
  }
 },
 "nbformat": 4,
 "nbformat_minor": 5
}
