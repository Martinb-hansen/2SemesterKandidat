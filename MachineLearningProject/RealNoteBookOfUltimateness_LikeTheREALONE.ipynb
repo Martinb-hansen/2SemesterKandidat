{
 "cells": [
  {
   "cell_type": "markdown",
   "id": "630f10b2",
   "metadata": {},
   "source": [
    "# Notebook for Group 1 - Disease prediction"
   ]
  },
  {
   "cell_type": "markdown",
   "id": "1fabb49f",
   "metadata": {},
   "source": [
    "Three models will be tested: kNN Decision tree Logistic regression\n",
    "\n",
    "This first section will include data reading and initial cleaning"
   ]
  },
  {
   "cell_type": "markdown",
   "id": "41b71e9b",
   "metadata": {},
   "source": [
    "# Imports and library definitions"
   ]
  },
  {
   "cell_type": "code",
   "execution_count": 1,
   "id": "e3bedee6",
   "metadata": {},
   "outputs": [],
   "source": [
    "import numpy as np\n",
    "import pandas as pd\n",
    "import matplotlib.pyplot as plt\n",
    "from matplotlib.pyplot import figure\n",
    "import csv\n",
    "from sklearn.preprocessing import LabelEncoder\n",
    "from sklearn.neighbors import KNeighborsClassifier\n",
    "from sklearn.metrics import confusion_matrix\n",
    "from bokeh.layouts import gridplot\n",
    "from bokeh.plotting import figure, show, output_file\n",
    "from bokeh.io import output_notebook\n",
    "from sklearn.model_selection import train_test_split, cross_val_score\n",
    "from sklearn.metrics import f1_score\n",
    "from sklearn.neighbors import NearestNeighbors\n",
    "from sklearn.model_selection import KFold\n",
    "from sklearn.model_selection import cross_val_score\n",
    "from sklearn.ensemble import RandomForestClassifier\n",
    "from sklearn.ensemble import RandomForestRegressor\n",
    "import seaborn as sns\n",
    "from sklearn.metrics import accuracy_score, confusion_matrix, classification_report\n",
    "from sklearn.model_selection import GridSearchCV\n",
    "from sklearn.feature_selection import SelectFromModel\n",
    "from sklearn import metrics\n",
    "from sklearn.utils import shuffle\n",
    "from sklearn.naive_bayes import GaussianNB\n",
    "from sklearn.tree import DecisionTreeClassifier\n",
    "from sklearn import preprocessing\n",
    "from sklearn.ensemble import GradientBoostingClassifier\n",
    "from sklearn.svm import SVC\n",
    "from sklearn.svm import LinearSVC\n",
    "from sklearn.metrics import f1_score\n",
    "from sklearn.metrics import accuracy_score\n",
    "from sklearn.metrics import confusion_matrix\n",
    "from sklearn.metrics import classification_report\n",
    "from sklearn.metrics import plot_confusion_matrix\n",
    "from sklearn.metrics import plot_roc_curve\n",
    "from sklearn.metrics import precision_score\n",
    "from sklearn.metrics import roc_curve\n",
    "from sklearn.metrics import recall_score\n",
    "from sklearn.linear_model import LogisticRegression\n",
    "from sklearn.linear_model import Perceptron\n",
    "from sklearn.linear_model import RidgeClassifier\n",
    "from sklearn.linear_model import SGDClassifier"
   ]
  },
  {
   "cell_type": "markdown",
   "id": "d5167375",
   "metadata": {},
   "source": [
    "# Data cleaning and preprocessing"
   ]
  },
  {
   "cell_type": "code",
   "execution_count": 30,
   "id": "426abcd6",
   "metadata": {},
   "outputs": [
    {
     "data": {
      "text/html": [
       "<div>\n",
       "<style scoped>\n",
       "    .dataframe tbody tr th:only-of-type {\n",
       "        vertical-align: middle;\n",
       "    }\n",
       "\n",
       "    .dataframe tbody tr th {\n",
       "        vertical-align: top;\n",
       "    }\n",
       "\n",
       "    .dataframe thead th {\n",
       "        text-align: right;\n",
       "    }\n",
       "</style>\n",
       "<table border=\"1\" class=\"dataframe\">\n",
       "  <thead>\n",
       "    <tr style=\"text-align: right;\">\n",
       "      <th></th>\n",
       "      <th>Disease</th>\n",
       "      <th>Symptom_1</th>\n",
       "      <th>Symptom_2</th>\n",
       "      <th>Symptom_3</th>\n",
       "      <th>Symptom_4</th>\n",
       "      <th>Symptom_5</th>\n",
       "      <th>Symptom_6</th>\n",
       "      <th>Symptom_7</th>\n",
       "      <th>Symptom_8</th>\n",
       "      <th>Symptom_9</th>\n",
       "      <th>Symptom_10</th>\n",
       "      <th>Symptom_11</th>\n",
       "      <th>Symptom_12</th>\n",
       "      <th>Symptom_13</th>\n",
       "      <th>Symptom_14</th>\n",
       "      <th>Symptom_15</th>\n",
       "      <th>Symptom_16</th>\n",
       "      <th>Symptom_17</th>\n",
       "    </tr>\n",
       "  </thead>\n",
       "  <tbody>\n",
       "    <tr>\n",
       "      <th>941</th>\n",
       "      <td>Cervical spondylosis</td>\n",
       "      <td>back_pain</td>\n",
       "      <td>weakness_in_limbs</td>\n",
       "      <td>neck_pain</td>\n",
       "      <td>dizziness</td>\n",
       "      <td>loss_of_balance</td>\n",
       "      <td>NaN</td>\n",
       "      <td>NaN</td>\n",
       "      <td>NaN</td>\n",
       "      <td>NaN</td>\n",
       "      <td>NaN</td>\n",
       "      <td>NaN</td>\n",
       "      <td>NaN</td>\n",
       "      <td>NaN</td>\n",
       "      <td>NaN</td>\n",
       "      <td>NaN</td>\n",
       "      <td>NaN</td>\n",
       "      <td>NaN</td>\n",
       "    </tr>\n",
       "    <tr>\n",
       "      <th>1715</th>\n",
       "      <td>Diabetes</td>\n",
       "      <td>fatigue</td>\n",
       "      <td>weight_loss</td>\n",
       "      <td>restlessness</td>\n",
       "      <td>irregular_sugar_level</td>\n",
       "      <td>blurred_and_distorted_vision</td>\n",
       "      <td>obesity</td>\n",
       "      <td>excessive_hunger</td>\n",
       "      <td>increased_appetite</td>\n",
       "      <td>polyuria</td>\n",
       "      <td>NaN</td>\n",
       "      <td>NaN</td>\n",
       "      <td>NaN</td>\n",
       "      <td>NaN</td>\n",
       "      <td>NaN</td>\n",
       "      <td>NaN</td>\n",
       "      <td>NaN</td>\n",
       "      <td>NaN</td>\n",
       "    </tr>\n",
       "    <tr>\n",
       "      <th>1377</th>\n",
       "      <td>Jaundice</td>\n",
       "      <td>itching</td>\n",
       "      <td>vomiting</td>\n",
       "      <td>fatigue</td>\n",
       "      <td>weight_loss</td>\n",
       "      <td>high_fever</td>\n",
       "      <td>dark_urine</td>\n",
       "      <td>abdominal_pain</td>\n",
       "      <td>NaN</td>\n",
       "      <td>NaN</td>\n",
       "      <td>NaN</td>\n",
       "      <td>NaN</td>\n",
       "      <td>NaN</td>\n",
       "      <td>NaN</td>\n",
       "      <td>NaN</td>\n",
       "      <td>NaN</td>\n",
       "      <td>NaN</td>\n",
       "      <td>NaN</td>\n",
       "    </tr>\n",
       "    <tr>\n",
       "      <th>1479</th>\n",
       "      <td>Alcoholic hepatitis</td>\n",
       "      <td>vomiting</td>\n",
       "      <td>yellowish_skin</td>\n",
       "      <td>abdominal_pain</td>\n",
       "      <td>swelling_of_stomach</td>\n",
       "      <td>distention_of_abdomen</td>\n",
       "      <td>history_of_alcohol_consumption</td>\n",
       "      <td>fluid_overload</td>\n",
       "      <td>NaN</td>\n",
       "      <td>NaN</td>\n",
       "      <td>NaN</td>\n",
       "      <td>NaN</td>\n",
       "      <td>NaN</td>\n",
       "      <td>NaN</td>\n",
       "      <td>NaN</td>\n",
       "      <td>NaN</td>\n",
       "      <td>NaN</td>\n",
       "      <td>NaN</td>\n",
       "    </tr>\n",
       "    <tr>\n",
       "      <th>3483</th>\n",
       "      <td>Psoriasis</td>\n",
       "      <td>skin_rash</td>\n",
       "      <td>joint_pain</td>\n",
       "      <td>skin_peeling</td>\n",
       "      <td>silver_like_dusting</td>\n",
       "      <td>small_dents_in_nails</td>\n",
       "      <td>inflammatory_nails</td>\n",
       "      <td>NaN</td>\n",
       "      <td>NaN</td>\n",
       "      <td>NaN</td>\n",
       "      <td>NaN</td>\n",
       "      <td>NaN</td>\n",
       "      <td>NaN</td>\n",
       "      <td>NaN</td>\n",
       "      <td>NaN</td>\n",
       "      <td>NaN</td>\n",
       "      <td>NaN</td>\n",
       "      <td>NaN</td>\n",
       "    </tr>\n",
       "  </tbody>\n",
       "</table>\n",
       "</div>"
      ],
      "text/plain": [
       "                   Disease  Symptom_1          Symptom_2       Symptom_3  \\\n",
       "941   Cervical spondylosis  back_pain  weakness_in_limbs       neck_pain   \n",
       "1715             Diabetes     fatigue        weight_loss    restlessness   \n",
       "1377              Jaundice    itching           vomiting         fatigue   \n",
       "1479   Alcoholic hepatitis   vomiting     yellowish_skin  abdominal_pain   \n",
       "3483             Psoriasis  skin_rash         joint_pain    skin_peeling   \n",
       "\n",
       "                  Symptom_4                     Symptom_5  \\\n",
       "941               dizziness               loss_of_balance   \n",
       "1715  irregular_sugar_level  blurred_and_distorted_vision   \n",
       "1377            weight_loss                    high_fever   \n",
       "1479    swelling_of_stomach         distention_of_abdomen   \n",
       "3483    silver_like_dusting          small_dents_in_nails   \n",
       "\n",
       "                           Symptom_6         Symptom_7           Symptom_8  \\\n",
       "941                              NaN               NaN                 NaN   \n",
       "1715                         obesity  excessive_hunger  increased_appetite   \n",
       "1377                      dark_urine    abdominal_pain                 NaN   \n",
       "1479  history_of_alcohol_consumption    fluid_overload                 NaN   \n",
       "3483              inflammatory_nails               NaN                 NaN   \n",
       "\n",
       "     Symptom_9 Symptom_10 Symptom_11 Symptom_12 Symptom_13 Symptom_14  \\\n",
       "941        NaN        NaN        NaN        NaN        NaN        NaN   \n",
       "1715  polyuria        NaN        NaN        NaN        NaN        NaN   \n",
       "1377       NaN        NaN        NaN        NaN        NaN        NaN   \n",
       "1479       NaN        NaN        NaN        NaN        NaN        NaN   \n",
       "3483       NaN        NaN        NaN        NaN        NaN        NaN   \n",
       "\n",
       "     Symptom_15 Symptom_16 Symptom_17  \n",
       "941         NaN        NaN        NaN  \n",
       "1715        NaN        NaN        NaN  \n",
       "1377        NaN        NaN        NaN  \n",
       "1479        NaN        NaN        NaN  \n",
       "3483        NaN        NaN        NaN  "
      ]
     },
     "execution_count": 30,
     "metadata": {},
     "output_type": "execute_result"
    }
   ],
   "source": [
    "df = pd.read_csv(\"dataset.csv\",skipinitialspace = True)\n",
    "df = shuffle(df, random_state = 41)\n",
    "df.head(5)"
   ]
  },
  {
   "cell_type": "markdown",
   "id": "6fb8558e",
   "metadata": {},
   "source": [
    "First we import the dataset and showcase 5 examples of the data"
   ]
  },
  {
   "cell_type": "code",
   "execution_count": 32,
   "id": "ae5301b6",
   "metadata": {},
   "outputs": [],
   "source": [
    "for col in df.columns:\n",
    "    df[col] = df[col].str.replace('_', ' ')\n",
    "cols = df.columns\n",
    "data1 = df[cols].values.flatten()\n",
    "reshaped = pd.Series(data1)\n",
    "reshaped = reshaped.str.strip()\n",
    "reshaped = reshaped.values.reshape(df.shape)\n",
    "df = pd.DataFrame(reshaped, columns = df.columns)\n",
    "df = df.fillna(0)"
   ]
  },
  {
   "cell_type": "markdown",
   "id": "7283af1a",
   "metadata": {},
   "source": [
    "Now to clean up some of this data we first stream line the symptoms so that they are written all in the same way. So all _ will be replaced with a ' '. This is due to the fact that some of the data such as the symptom 'foul_smell_of urine' where there is a combinations of underscores and spaces. Also the data is reshaped so that it no longer is shuffled and the NaN values are replaced by 0."
   ]
  },
  {
   "cell_type": "code",
   "execution_count": 25,
   "id": "d587e4ff",
   "metadata": {},
   "outputs": [],
   "source": [
    "df_severity = pd.read_csv('Symptom-severity.csv')\n",
    "df_severity['Symptom'] = df_severity['Symptom'].str.replace('_',' ')\n",
    "df_severity['Symptom'].unique()\n",
    "vals = df.values\n",
    "symptoms = df_severity['Symptom'].unique()\n",
    "for i in range(len(symptoms)):\n",
    "    vals[vals == symptoms[i]] = df_severity[df_severity['Symptom'] == symptoms[i]]['weight'].values[0]\n",
    "df_pros = pd.DataFrame(vals, columns=cols)\n",
    "df_pros = df_pros.replace('dischromic  patches', 0)\n",
    "df_pros = df_pros.replace('spotting  urination', 0)\n",
    "df_pros = df_pros.replace('foul smell of urine', 0)"
   ]
  },
  {
   "cell_type": "markdown",
   "id": "78c51b30",
   "metadata": {},
   "source": [
    "Now the Symptom-severity dataset is imported and used for replacing the categorical symptoms with numerical values that can be used for the model calculations. So first as we did with the other dataset all the symptoms have the underscore replaced with a space. then all symptoms are replaced with their respective weight from the severity dataset.\n",
    "Due to no cases of dischromic patches, spotting urination & foul smell of urine the weight is set to 0. "
   ]
  },
  {
   "cell_type": "code",
   "execution_count": 26,
   "id": "f58331e7",
   "metadata": {},
   "outputs": [],
   "source": [
    "X = df_pros.iloc[:,1:].values\n",
    "y = df['Disease'].values\n",
    "X_train, X_test, y_train, y_test = train_test_split(X, y, test_size=0.2, random_state=42)"
   ]
  },
  {
   "cell_type": "markdown",
   "id": "d511c58f",
   "metadata": {},
   "source": [
    "Then the data is split in to the X and y data and then further devided in to training and testing data, with 80% training and 20% test data. "
   ]
  },
  {
   "cell_type": "markdown",
   "id": "4f574750",
   "metadata": {},
   "source": [
    "# Definition of functions"
   ]
  },
  {
   "cell_type": "code",
   "execution_count": 19,
   "id": "37d2ffeb",
   "metadata": {},
   "outputs": [],
   "source": [
    "def performance_evaluator(model, X_test, y_test):\n",
    "    y_predicted = model.predict(X_test)\n",
    "    precision = precision_score(y_test, y_predicted,average='micro')*100\n",
    "    accuracy = accuracy_score(y_test, y_predicted)*100\n",
    "    f1 = f1_score(y_test, y_predicted, average='macro')*100\n",
    "    recall = recall_score(y_test, y_predicted, average='macro')*100\n",
    "    \n",
    "    print('precision----->', precision) \n",
    "    print('Accuracy----->', accuracy)\n",
    "    print('F1 Score----->', f1)\n",
    "    print('Recall----->', recall)\n",
    "    return accuracy, precision, f1, recall"
   ]
  },
  {
   "cell_type": "markdown",
   "id": "c3a87dc7",
   "metadata": {},
   "source": []
  },
  {
   "cell_type": "code",
   "execution_count": 20,
   "id": "b57c384d",
   "metadata": {},
   "outputs": [],
   "source": [
    "def confusion_plot(model, X_test, y_test):\n",
    "    \"\"\"\n",
    "    to plot confusion metrix\n",
    "    \"\"\"\n",
    "    plt.figure(figsize=(10, 10), dpi=150)\n",
    "    \n",
    "    y_pred = model.predict(X_test)\n",
    "    con_me = confusion_matrix(y_test, y_pred)\n",
    "    sns.heatmap(con_me, annot=True)"
   ]
  },
  {
   "cell_type": "code",
   "execution_count": 27,
   "id": "13edc1b7",
   "metadata": {},
   "outputs": [
    {
     "data": {
      "text/plain": [
       "RandomForestClassifier(max_depth=4, max_features=1, n_estimators=200,\n",
       "                       random_state=42)"
      ]
     },
     "execution_count": 27,
     "metadata": {},
     "output_type": "execute_result"
    }
   ],
   "source": [
    "rfc=RandomForestClassifier(random_state=42, max_features=1, n_estimators= 200, max_depth=4, criterion='gini')\n",
    "rfc.fit(X_train, y_train)"
   ]
  },
  {
   "cell_type": "code",
   "execution_count": 28,
   "id": "62ee31ad",
   "metadata": {},
   "outputs": [
    {
     "name": "stdout",
     "output_type": "stream",
     "text": [
      "precision-----> 91.76829268292683\n",
      "Accuracy-----> 91.76829268292683\n",
      "F1 Score-----> 91.68836888559537\n",
      "Recall-----> 91.5827407194618\n"
     ]
    },
    {
     "data": {
      "text/plain": [
       "(91.76829268292683, 91.76829268292683, 91.68836888559537, 91.5827407194618)"
      ]
     },
     "execution_count": 28,
     "metadata": {},
     "output_type": "execute_result"
    }
   ],
   "source": [
    "performance_evaluator(rfc, X_test, y_test)"
   ]
  }
 ],
 "metadata": {
  "kernelspec": {
   "display_name": "Python 3 (ipykernel)",
   "language": "python",
   "name": "python3"
  },
  "language_info": {
   "codemirror_mode": {
    "name": "ipython",
    "version": 3
   },
   "file_extension": ".py",
   "mimetype": "text/x-python",
   "name": "python",
   "nbconvert_exporter": "python",
   "pygments_lexer": "ipython3",
   "version": "3.9.7"
  }
 },
 "nbformat": 4,
 "nbformat_minor": 5
}
